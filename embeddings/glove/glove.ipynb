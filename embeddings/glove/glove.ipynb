{
 "cells": [
  {
   "cell_type": "code",
   "execution_count": 1,
   "metadata": {
    "collapsed": true,
    "ExecuteTime": {
     "end_time": "2025-03-21T04:49:29.023221Z",
     "start_time": "2025-03-21T04:49:29.020525Z"
    }
   },
   "outputs": [],
   "source": [
    "import os\n",
    "os.chdir('/Users/alexrotondo/nlp/')"
   ]
  },
  {
   "cell_type": "code",
   "execution_count": 2,
   "outputs": [],
   "source": [
    "from stopwords import get_stopwords\n",
    "from embeddings.utils.preprocessing.string_preprocessing import lower_text, remove_punctuation, tokenize_document\n",
    "from embeddings.utils.document_config import DocumentConfig\n",
    "from embeddings.utils.preprocessing.token_preprocessing import remove_stopwords, remove_unknown_words\n",
    "from embeddings.utils.vocab_config import CorpusVocabConfig\n",
    "from embeddings.utils.vocab import CorpusVocab\n",
    "from embeddings.glove.glove import GLoVE\n",
    "\n",
    "import numpy as np\n",
    "import pandas as pd\n",
    "\n",
    "import seaborn as sb\n",
    "import matplotlib.pyplot as plt\n",
    "sb.set_style('darkgrid')"
   ],
   "metadata": {
    "collapsed": false,
    "ExecuteTime": {
     "end_time": "2025-03-21T04:49:29.032355Z",
     "start_time": "2025-03-21T04:49:29.026165Z"
    }
   }
  },
  {
   "cell_type": "code",
   "execution_count": 3,
   "outputs": [
    {
     "data": {
      "text/plain": "              artist                    song  \\\n2464     Cheap Trick            How Are You?   \n39547    Keith Green  The Prodigal Son Suite   \n13498   Natalie Cole     Starting Over Again   \n38049    John Legend  Burning Down The House   \n50134  Rascal Flatts              Better Now   \n\n                                                    link  \\\n2464            /c/cheap+trick/how+are+you_20029364.html   \n39547  /k/keith+green/the+prodigal+son+suite_20077391...   \n13498  /n/natalie+cole/starting+over+again_20328518.html   \n38049  /j/john+legend/burning+down+the+house_20809147...   \n50134          /r/rascal+flatts/better+now_20450673.html   \n\n                                                    text  \n2464   Hello  \\nHow are you?  \\nHow'd you sleep last ...  \n39547  I was done hoeing, out in the fields for the d...  \n13498  And, when I hold you in my arms I promise you ...  \n38049  Watch out you might get what you're after  \\nC...  \n50134  If I had one call to make  \\nI would dial yest...  ",
      "text/html": "<div>\n<style scoped>\n    .dataframe tbody tr th:only-of-type {\n        vertical-align: middle;\n    }\n\n    .dataframe tbody tr th {\n        vertical-align: top;\n    }\n\n    .dataframe thead th {\n        text-align: right;\n    }\n</style>\n<table border=\"1\" class=\"dataframe\">\n  <thead>\n    <tr style=\"text-align: right;\">\n      <th></th>\n      <th>artist</th>\n      <th>song</th>\n      <th>link</th>\n      <th>text</th>\n    </tr>\n  </thead>\n  <tbody>\n    <tr>\n      <th>2464</th>\n      <td>Cheap Trick</td>\n      <td>How Are You?</td>\n      <td>/c/cheap+trick/how+are+you_20029364.html</td>\n      <td>Hello  \\nHow are you?  \\nHow'd you sleep last ...</td>\n    </tr>\n    <tr>\n      <th>39547</th>\n      <td>Keith Green</td>\n      <td>The Prodigal Son Suite</td>\n      <td>/k/keith+green/the+prodigal+son+suite_20077391...</td>\n      <td>I was done hoeing, out in the fields for the d...</td>\n    </tr>\n    <tr>\n      <th>13498</th>\n      <td>Natalie Cole</td>\n      <td>Starting Over Again</td>\n      <td>/n/natalie+cole/starting+over+again_20328518.html</td>\n      <td>And, when I hold you in my arms I promise you ...</td>\n    </tr>\n    <tr>\n      <th>38049</th>\n      <td>John Legend</td>\n      <td>Burning Down The House</td>\n      <td>/j/john+legend/burning+down+the+house_20809147...</td>\n      <td>Watch out you might get what you're after  \\nC...</td>\n    </tr>\n    <tr>\n      <th>50134</th>\n      <td>Rascal Flatts</td>\n      <td>Better Now</td>\n      <td>/r/rascal+flatts/better+now_20450673.html</td>\n      <td>If I had one call to make  \\nI would dial yest...</td>\n    </tr>\n  </tbody>\n</table>\n</div>"
     },
     "execution_count": 3,
     "metadata": {},
     "output_type": "execute_result"
    }
   ],
   "source": [
    "million_songs = pd.read_csv('embeddings/data/spotify_millsongdata.csv')\n",
    "million_songs = million_songs.sample(frac=1, replace=False) # randomize ordering\n",
    "million_songs.head()"
   ],
   "metadata": {
    "collapsed": false,
    "ExecuteTime": {
     "end_time": "2025-03-21T04:49:29.703084Z",
     "start_time": "2025-03-21T04:49:29.033975Z"
    }
   }
  },
  {
   "cell_type": "code",
   "execution_count": 4,
   "outputs": [
    {
     "data": {
      "text/plain": "              artist                    song  \\\n2464     Cheap Trick            How Are You?   \n39547    Keith Green  The Prodigal Son Suite   \n13498   Natalie Cole     Starting Over Again   \n38049    John Legend  Burning Down The House   \n50134  Rascal Flatts              Better Now   \n\n                                                    link  \\\n2464            /c/cheap+trick/how+are+you_20029364.html   \n39547  /k/keith+green/the+prodigal+son+suite_20077391...   \n13498  /n/natalie+cole/starting+over+again_20328518.html   \n38049  /j/john+legend/burning+down+the+house_20809147...   \n50134          /r/rascal+flatts/better+now_20450673.html   \n\n                                                    text  \n2464   hello  how are you  howd you sleep last night ...  \n39547  i was done hoeing out in the fields for the da...  \n13498  and when i hold you in my arms i promise you  ...  \n38049  watch out you might get what youre after  cool...  \n50134  if i had one call to make  i would dial yester...  ",
      "text/html": "<div>\n<style scoped>\n    .dataframe tbody tr th:only-of-type {\n        vertical-align: middle;\n    }\n\n    .dataframe tbody tr th {\n        vertical-align: top;\n    }\n\n    .dataframe thead th {\n        text-align: right;\n    }\n</style>\n<table border=\"1\" class=\"dataframe\">\n  <thead>\n    <tr style=\"text-align: right;\">\n      <th></th>\n      <th>artist</th>\n      <th>song</th>\n      <th>link</th>\n      <th>text</th>\n    </tr>\n  </thead>\n  <tbody>\n    <tr>\n      <th>2464</th>\n      <td>Cheap Trick</td>\n      <td>How Are You?</td>\n      <td>/c/cheap+trick/how+are+you_20029364.html</td>\n      <td>hello  how are you  howd you sleep last night ...</td>\n    </tr>\n    <tr>\n      <th>39547</th>\n      <td>Keith Green</td>\n      <td>The Prodigal Son Suite</td>\n      <td>/k/keith+green/the+prodigal+son+suite_20077391...</td>\n      <td>i was done hoeing out in the fields for the da...</td>\n    </tr>\n    <tr>\n      <th>13498</th>\n      <td>Natalie Cole</td>\n      <td>Starting Over Again</td>\n      <td>/n/natalie+cole/starting+over+again_20328518.html</td>\n      <td>and when i hold you in my arms i promise you  ...</td>\n    </tr>\n    <tr>\n      <th>38049</th>\n      <td>John Legend</td>\n      <td>Burning Down The House</td>\n      <td>/j/john+legend/burning+down+the+house_20809147...</td>\n      <td>watch out you might get what youre after  cool...</td>\n    </tr>\n    <tr>\n      <th>50134</th>\n      <td>Rascal Flatts</td>\n      <td>Better Now</td>\n      <td>/r/rascal+flatts/better+now_20450673.html</td>\n      <td>if i had one call to make  i would dial yester...</td>\n    </tr>\n  </tbody>\n</table>\n</div>"
     },
     "execution_count": 4,
     "metadata": {},
     "output_type": "execute_result"
    }
   ],
   "source": [
    "def remove_newline(text):\n",
    "    return text.replace(\"\\n\", \"\")\n",
    "\n",
    "million_songs.text = million_songs.text.apply(remove_newline)\n",
    "million_songs.text = million_songs.text.apply(lower_text)\n",
    "million_songs.text = million_songs.text.apply(remove_punctuation)\n",
    "million_songs.head()"
   ],
   "metadata": {
    "collapsed": false,
    "ExecuteTime": {
     "end_time": "2025-03-21T04:49:30.157193Z",
     "start_time": "2025-03-21T04:49:29.723646Z"
    }
   }
  },
  {
   "cell_type": "code",
   "execution_count": 5,
   "outputs": [],
   "source": [
    "million_songs['tokens'] = million_songs.text.apply(tokenize_document)\n",
    "million_songs['n_tokens'] = million_songs.tokens.apply(len)"
   ],
   "metadata": {
    "collapsed": false,
    "ExecuteTime": {
     "end_time": "2025-03-21T04:49:31.950339Z",
     "start_time": "2025-03-21T04:49:30.192349Z"
    }
   }
  },
  {
   "cell_type": "code",
   "execution_count": 6,
   "outputs": [],
   "source": [
    "MAX_VOCAB_WORDS = 5000\n",
    "MAX_NUMBER_OF_TOKENS_PER_DOCUMENT = 256\n",
    "\n",
    "vocab_config = CorpusVocabConfig(\n",
    "    max_tokens=MAX_VOCAB_WORDS,\n",
    "    randomize_token_index=False\n",
    ")\n",
    "\n",
    "document_config = DocumentConfig.create(\n",
    "    lower_text=False, #already done\n",
    "    exclude_punctuation=False, #already done\n",
    "    remove_stopwords=False,\n",
    "    excluded_punctuation=None,\n",
    "    stopwords=None,\n",
    ")\n",
    "\n",
    "song_lyrics: list[str] = million_songs.text.to_list()\n",
    "\n",
    "vocab: CorpusVocab = CorpusVocab.create(\n",
    "    documents=song_lyrics,\n",
    "    document_config=document_config,\n",
    "    corpus_vocab_config=vocab_config\n",
    ")"
   ],
   "metadata": {
    "collapsed": false,
    "ExecuteTime": {
     "end_time": "2025-03-21T04:49:36.790661Z",
     "start_time": "2025-03-21T04:49:31.971847Z"
    }
   }
  },
  {
   "cell_type": "code",
   "execution_count": 7,
   "outputs": [],
   "source": [
    "assert len(vocab.vocab) == MAX_VOCAB_WORDS + 1"
   ],
   "metadata": {
    "collapsed": false,
    "ExecuteTime": {
     "end_time": "2025-03-21T04:49:36.794511Z",
     "start_time": "2025-03-21T04:49:36.791876Z"
    }
   }
  },
  {
   "cell_type": "code",
   "execution_count": 8,
   "outputs": [],
   "source": [
    "def _remove_unknown_words(tokens: list[str], _vocab: CorpusVocab = vocab) -> list[str]:\n",
    "    return remove_unknown_words(document_tokens=tokens,\n",
    "                                vocab=_vocab.vocab,\n",
    "                                unknown_word_identifier=_vocab.unknown_word_identifier)\n",
    "million_songs['tokens_cleaned'] = million_songs.tokens.apply(_remove_unknown_words)"
   ],
   "metadata": {
    "collapsed": false,
    "ExecuteTime": {
     "end_time": "2025-03-21T04:49:38.194712Z",
     "start_time": "2025-03-21T04:49:36.845091Z"
    }
   }
  },
  {
   "cell_type": "code",
   "execution_count": 9,
   "outputs": [],
   "source": [
    "_glove = GLoVE().create(\n",
    "    vocab=vocab,\n",
    "    tokenized_document_list=million_songs.sample(frac=0.1, replace=False).tokens_cleaned.to_list(),\n",
    "    context_window_length=3\n",
    ")"
   ],
   "metadata": {
    "collapsed": false,
    "ExecuteTime": {
     "end_time": "2025-03-21T04:49:42.541366Z",
     "start_time": "2025-03-21T04:49:38.200592Z"
    }
   }
  },
  {
   "cell_type": "code",
   "execution_count": 10,
   "outputs": [
    {
     "data": {
      "text/plain": "-1.0986122886681098"
     },
     "execution_count": 10,
     "metadata": {},
     "output_type": "execute_result"
    }
   ],
   "source": [
    "np.log(min(_glove.co_occurrence_dictionary.values()))"
   ],
   "metadata": {
    "collapsed": false,
    "ExecuteTime": {
     "end_time": "2025-03-21T04:49:42.581480Z",
     "start_time": "2025-03-21T04:49:42.576138Z"
    }
   }
  },
  {
   "cell_type": "code",
   "execution_count": 11,
   "outputs": [
    {
     "data": {
      "text/plain": "array([0.8225439 , 0.87413876, 0.04033639, 0.47884658, 0.6870156 ])"
     },
     "execution_count": 11,
     "metadata": {},
     "output_type": "execute_result"
    }
   ],
   "source": [
    "np.random.rand(5)"
   ],
   "metadata": {
    "collapsed": false,
    "ExecuteTime": {
     "end_time": "2025-03-21T04:49:42.583618Z",
     "start_time": "2025-03-21T04:49:42.581792Z"
    }
   }
  },
  {
   "cell_type": "code",
   "execution_count": 15,
   "outputs": [
    {
     "name": "stdout",
     "output_type": "stream",
     "text": [
      "mean loss for epoch #1 is 0.475\n",
      "mean loss for epoch #2 is 0.38846\n",
      "mean loss for epoch #3 is 0.37587\n",
      "mean loss for epoch #4 is 0.37007\n",
      "mean loss for epoch #5 is 0.36643\n",
      "mean loss for epoch #6 is 0.36503\n",
      "mean loss for epoch #7 is 0.36389\n",
      "mean loss for epoch #8 is 0.36325\n",
      "mean loss for epoch #9 is 0.36246\n",
      "mean loss for epoch #10 is 0.36192\n"
     ]
    }
   ],
   "source": [
    "embeddings = _glove.create_embeddings(\n",
    "    embedding_dimension=20,\n",
    "    learning_rate=0.1,\n",
    "    number_of_epochs=10\n",
    ")"
   ],
   "metadata": {
    "collapsed": false,
    "ExecuteTime": {
     "end_time": "2025-03-21T04:53:02.675665Z",
     "start_time": "2025-03-21T04:52:28.966178Z"
    }
   }
  },
  {
   "cell_type": "code",
   "execution_count": 12,
   "outputs": [],
   "source": [],
   "metadata": {
    "collapsed": false,
    "ExecuteTime": {
     "end_time": "2025-03-21T04:49:45.826841Z",
     "start_time": "2025-03-21T04:49:45.825322Z"
    }
   }
  }
 ],
 "metadata": {
  "kernelspec": {
   "display_name": "Python 3",
   "language": "python",
   "name": "python3"
  },
  "language_info": {
   "codemirror_mode": {
    "name": "ipython",
    "version": 2
   },
   "file_extension": ".py",
   "mimetype": "text/x-python",
   "name": "python",
   "nbconvert_exporter": "python",
   "pygments_lexer": "ipython2",
   "version": "2.7.6"
  }
 },
 "nbformat": 4,
 "nbformat_minor": 0
}
