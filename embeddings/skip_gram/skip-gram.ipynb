{
 "cells": [
  {
   "cell_type": "code",
   "execution_count": 110,
   "metadata": {
    "collapsed": true,
    "ExecuteTime": {
     "end_time": "2025-03-19T21:20:04.236786Z",
     "start_time": "2025-03-19T21:20:04.224069Z"
    }
   },
   "outputs": [],
   "source": [
    "import os\n",
    "os.chdir('/Users/alexrotondo/nlp/')"
   ]
  },
  {
   "cell_type": "code",
   "execution_count": 111,
   "outputs": [],
   "source": [
    "from stopwords import get_stopwords\n",
    "from embeddings.utils.preprocessing.string_preprocessing import lower_text, remove_punctuation, tokenize_document\n",
    "from embeddings.utils.document_config import DocumentConfig\n",
    "from embeddings.utils.preprocessing.token_preprocessing import remove_stopwords, remove_unknown_words\n",
    "from embeddings.utils.vocab_config import CorpusVocabConfig\n",
    "from embeddings.utils.vocab import CorpusVocab\n",
    "from embeddings.skip_gram.model import SkipGramModel\n",
    "\n",
    "import numpy as np\n",
    "import pandas as pd\n",
    "import torch\n",
    "\n",
    "import seaborn as sb\n",
    "import matplotlib.pyplot as plt\n",
    "sb.set_style('darkgrid')"
   ],
   "metadata": {
    "collapsed": false,
    "ExecuteTime": {
     "end_time": "2025-03-19T21:20:05.141042Z",
     "start_time": "2025-03-19T21:20:05.135464Z"
    }
   }
  },
  {
   "cell_type": "code",
   "execution_count": 112,
   "outputs": [
    {
     "data": {
      "text/plain": "  artist                   song                                        link  \\\n0   ABBA  Ahe's My Kind Of Girl  /a/abba/ahes+my+kind+of+girl_20598417.html   \n1   ABBA       Andante, Andante       /a/abba/andante+andante_20002708.html   \n2   ABBA         As Good As New        /a/abba/as+good+as+new_20003033.html   \n3   ABBA                   Bang                  /a/abba/bang_20598415.html   \n4   ABBA       Bang-A-Boomerang      /a/abba/bang+a+boomerang_20002668.html   \n\n                                                text  \n0  Look at her face, it's a wonderful face  \\nAnd...  \n1  Take it easy with me, please  \\nTouch me gentl...  \n2  I'll never know why I had to go  \\nWhy I had t...  \n3  Making somebody happy is a question of give an...  \n4  Making somebody happy is a question of give an...  ",
      "text/html": "<div>\n<style scoped>\n    .dataframe tbody tr th:only-of-type {\n        vertical-align: middle;\n    }\n\n    .dataframe tbody tr th {\n        vertical-align: top;\n    }\n\n    .dataframe thead th {\n        text-align: right;\n    }\n</style>\n<table border=\"1\" class=\"dataframe\">\n  <thead>\n    <tr style=\"text-align: right;\">\n      <th></th>\n      <th>artist</th>\n      <th>song</th>\n      <th>link</th>\n      <th>text</th>\n    </tr>\n  </thead>\n  <tbody>\n    <tr>\n      <th>0</th>\n      <td>ABBA</td>\n      <td>Ahe's My Kind Of Girl</td>\n      <td>/a/abba/ahes+my+kind+of+girl_20598417.html</td>\n      <td>Look at her face, it's a wonderful face  \\nAnd...</td>\n    </tr>\n    <tr>\n      <th>1</th>\n      <td>ABBA</td>\n      <td>Andante, Andante</td>\n      <td>/a/abba/andante+andante_20002708.html</td>\n      <td>Take it easy with me, please  \\nTouch me gentl...</td>\n    </tr>\n    <tr>\n      <th>2</th>\n      <td>ABBA</td>\n      <td>As Good As New</td>\n      <td>/a/abba/as+good+as+new_20003033.html</td>\n      <td>I'll never know why I had to go  \\nWhy I had t...</td>\n    </tr>\n    <tr>\n      <th>3</th>\n      <td>ABBA</td>\n      <td>Bang</td>\n      <td>/a/abba/bang_20598415.html</td>\n      <td>Making somebody happy is a question of give an...</td>\n    </tr>\n    <tr>\n      <th>4</th>\n      <td>ABBA</td>\n      <td>Bang-A-Boomerang</td>\n      <td>/a/abba/bang+a+boomerang_20002668.html</td>\n      <td>Making somebody happy is a question of give an...</td>\n    </tr>\n  </tbody>\n</table>\n</div>"
     },
     "execution_count": 112,
     "metadata": {},
     "output_type": "execute_result"
    }
   ],
   "source": [
    "million_songs = pd.read_csv('embeddings/data/spotify_millsongdata.csv')\n",
    "million_songs.head()"
   ],
   "metadata": {
    "collapsed": false,
    "ExecuteTime": {
     "end_time": "2025-03-19T21:20:08.762579Z",
     "start_time": "2025-03-19T21:20:06.013925Z"
    }
   }
  },
  {
   "cell_type": "code",
   "execution_count": 113,
   "outputs": [],
   "source": [
    "TOTAL_DOCUMENTS = million_songs.shape[0]"
   ],
   "metadata": {
    "collapsed": false,
    "ExecuteTime": {
     "end_time": "2025-03-19T21:20:08.779694Z",
     "start_time": "2025-03-19T21:20:08.776545Z"
    }
   }
  },
  {
   "cell_type": "code",
   "execution_count": 114,
   "outputs": [
    {
     "data": {
      "text/plain": "  artist                   song                                        link  \\\n0   ABBA  Ahe's My Kind Of Girl  /a/abba/ahes+my+kind+of+girl_20598417.html   \n1   ABBA       Andante, Andante       /a/abba/andante+andante_20002708.html   \n2   ABBA         As Good As New        /a/abba/as+good+as+new_20003033.html   \n3   ABBA                   Bang                  /a/abba/bang_20598415.html   \n4   ABBA       Bang-A-Boomerang      /a/abba/bang+a+boomerang_20002668.html   \n\n                                                text  \n0  look at her face its a wonderful face  and it ...  \n1  take it easy with me please  touch me gently l...  \n2  ill never know why i had to go  why i had to p...  \n3  making somebody happy is a question of give an...  \n4  making somebody happy is a question of give an...  ",
      "text/html": "<div>\n<style scoped>\n    .dataframe tbody tr th:only-of-type {\n        vertical-align: middle;\n    }\n\n    .dataframe tbody tr th {\n        vertical-align: top;\n    }\n\n    .dataframe thead th {\n        text-align: right;\n    }\n</style>\n<table border=\"1\" class=\"dataframe\">\n  <thead>\n    <tr style=\"text-align: right;\">\n      <th></th>\n      <th>artist</th>\n      <th>song</th>\n      <th>link</th>\n      <th>text</th>\n    </tr>\n  </thead>\n  <tbody>\n    <tr>\n      <th>0</th>\n      <td>ABBA</td>\n      <td>Ahe's My Kind Of Girl</td>\n      <td>/a/abba/ahes+my+kind+of+girl_20598417.html</td>\n      <td>look at her face its a wonderful face  and it ...</td>\n    </tr>\n    <tr>\n      <th>1</th>\n      <td>ABBA</td>\n      <td>Andante, Andante</td>\n      <td>/a/abba/andante+andante_20002708.html</td>\n      <td>take it easy with me please  touch me gently l...</td>\n    </tr>\n    <tr>\n      <th>2</th>\n      <td>ABBA</td>\n      <td>As Good As New</td>\n      <td>/a/abba/as+good+as+new_20003033.html</td>\n      <td>ill never know why i had to go  why i had to p...</td>\n    </tr>\n    <tr>\n      <th>3</th>\n      <td>ABBA</td>\n      <td>Bang</td>\n      <td>/a/abba/bang_20598415.html</td>\n      <td>making somebody happy is a question of give an...</td>\n    </tr>\n    <tr>\n      <th>4</th>\n      <td>ABBA</td>\n      <td>Bang-A-Boomerang</td>\n      <td>/a/abba/bang+a+boomerang_20002668.html</td>\n      <td>making somebody happy is a question of give an...</td>\n    </tr>\n  </tbody>\n</table>\n</div>"
     },
     "execution_count": 114,
     "metadata": {},
     "output_type": "execute_result"
    }
   ],
   "source": [
    "def remove_newline(text):\n",
    "    return text.replace(\"\\n\", \"\")\n",
    "\n",
    "million_songs.text = million_songs.text.apply(remove_newline)\n",
    "million_songs.text = million_songs.text.apply(lower_text)\n",
    "million_songs.text = million_songs.text.apply(remove_punctuation)\n",
    "million_songs.head()"
   ],
   "metadata": {
    "collapsed": false,
    "ExecuteTime": {
     "end_time": "2025-03-19T21:20:10.243719Z",
     "start_time": "2025-03-19T21:20:09.706961Z"
    }
   }
  },
  {
   "cell_type": "code",
   "execution_count": 115,
   "outputs": [
    {
     "data": {
      "text/plain": "  artist                   song                                        link  \\\n0   ABBA  Ahe's My Kind Of Girl  /a/abba/ahes+my+kind+of+girl_20598417.html   \n1   ABBA       Andante, Andante       /a/abba/andante+andante_20002708.html   \n2   ABBA         As Good As New        /a/abba/as+good+as+new_20003033.html   \n3   ABBA                   Bang                  /a/abba/bang_20598415.html   \n4   ABBA       Bang-A-Boomerang      /a/abba/bang+a+boomerang_20002668.html   \n\n                                                text  \n0  look at her face its a wonderful face  and it ...  \n1  take it easy with me please  touch me gently l...  \n2  ill never know why i had to go  why i had to p...  \n3  making somebody happy is a question of give an...  \n4  making somebody happy is a question of give an...  ",
      "text/html": "<div>\n<style scoped>\n    .dataframe tbody tr th:only-of-type {\n        vertical-align: middle;\n    }\n\n    .dataframe tbody tr th {\n        vertical-align: top;\n    }\n\n    .dataframe thead th {\n        text-align: right;\n    }\n</style>\n<table border=\"1\" class=\"dataframe\">\n  <thead>\n    <tr style=\"text-align: right;\">\n      <th></th>\n      <th>artist</th>\n      <th>song</th>\n      <th>link</th>\n      <th>text</th>\n    </tr>\n  </thead>\n  <tbody>\n    <tr>\n      <th>0</th>\n      <td>ABBA</td>\n      <td>Ahe's My Kind Of Girl</td>\n      <td>/a/abba/ahes+my+kind+of+girl_20598417.html</td>\n      <td>look at her face its a wonderful face  and it ...</td>\n    </tr>\n    <tr>\n      <th>1</th>\n      <td>ABBA</td>\n      <td>Andante, Andante</td>\n      <td>/a/abba/andante+andante_20002708.html</td>\n      <td>take it easy with me please  touch me gently l...</td>\n    </tr>\n    <tr>\n      <th>2</th>\n      <td>ABBA</td>\n      <td>As Good As New</td>\n      <td>/a/abba/as+good+as+new_20003033.html</td>\n      <td>ill never know why i had to go  why i had to p...</td>\n    </tr>\n    <tr>\n      <th>3</th>\n      <td>ABBA</td>\n      <td>Bang</td>\n      <td>/a/abba/bang_20598415.html</td>\n      <td>making somebody happy is a question of give an...</td>\n    </tr>\n    <tr>\n      <th>4</th>\n      <td>ABBA</td>\n      <td>Bang-A-Boomerang</td>\n      <td>/a/abba/bang+a+boomerang_20002668.html</td>\n      <td>making somebody happy is a question of give an...</td>\n    </tr>\n  </tbody>\n</table>\n</div>"
     },
     "execution_count": 115,
     "metadata": {},
     "output_type": "execute_result"
    }
   ],
   "source": [
    "def remove_newline(text):\n",
    "    return text.replace(\"\\n\", \"\")\n",
    "\n",
    "million_songs.text = million_songs.text.apply(remove_newline)\n",
    "million_songs.text = million_songs.text.apply(lower_text)\n",
    "million_songs.text = million_songs.text.apply(remove_punctuation)\n",
    "million_songs.head()"
   ],
   "metadata": {
    "collapsed": false,
    "ExecuteTime": {
     "end_time": "2025-03-19T21:20:12.489403Z",
     "start_time": "2025-03-19T21:20:12.197066Z"
    }
   }
  },
  {
   "cell_type": "code",
   "execution_count": 116,
   "outputs": [],
   "source": [
    "million_songs['tokens'] = million_songs.text.apply(tokenize_document)\n",
    "million_songs['n_tokens'] = million_songs.tokens.apply(len)"
   ],
   "metadata": {
    "collapsed": false,
    "ExecuteTime": {
     "end_time": "2025-03-19T21:20:19.944800Z",
     "start_time": "2025-03-19T21:20:17.890257Z"
    }
   }
  },
  {
   "cell_type": "code",
   "execution_count": 117,
   "outputs": [
    {
     "data": {
      "text/plain": "<Figure size 1000x500 with 1 Axes>",
      "image/png": "[encoded data removed]"
     },
     "metadata": {},
     "output_type": "display_data"
    }
   ],
   "source": [
    "plt.figure(figsize=(10, 5))\n",
    "sb.violinplot(data=million_songs, x='n_tokens')\n",
    "plt.xlabel(\"Number of Tokens in Lyric Sample\")\n",
    "plt.show()"
   ],
   "metadata": {
    "collapsed": false,
    "ExecuteTime": {
     "end_time": "2025-03-19T21:20:20.250619Z",
     "start_time": "2025-03-19T21:20:19.938560Z"
    }
   }
  },
  {
   "cell_type": "code",
   "execution_count": 118,
   "outputs": [],
   "source": [
    "MAX_VOCAB_WORDS = 4000\n",
    "MAX_NUMBER_OF_TOKENS_PER_DOCUMENT = 256\n",
    "\n",
    "vocab_config = CorpusVocabConfig(\n",
    "    max_tokens=MAX_VOCAB_WORDS,\n",
    "    randomize_token_index=False\n",
    ")\n",
    "\n",
    "document_config = DocumentConfig.create(\n",
    "    lower_text=False, #already done\n",
    "    exclude_punctuation=False, #already done\n",
    "    remove_stopwords=True,\n",
    "    excluded_punctuation=None,\n",
    "    stopwords=None,\n",
    ")\n",
    "\n",
    "song_lyrics: list[str] = million_songs.text.to_list()\n",
    "\n",
    "vocab: CorpusVocab = CorpusVocab.create(\n",
    "    documents=song_lyrics,\n",
    "    document_config=document_config,\n",
    "    corpus_vocab_config=vocab_config\n",
    ")"
   ],
   "metadata": {
    "collapsed": false,
    "ExecuteTime": {
     "end_time": "2025-03-19T21:21:56.182689Z",
     "start_time": "2025-03-19T21:21:35.881088Z"
    }
   }
  },
  {
   "cell_type": "code",
   "execution_count": 119,
   "outputs": [],
   "source": [
    "assert vocab.vocab_size == MAX_VOCAB_WORDS + 1"
   ],
   "metadata": {
    "collapsed": false,
    "ExecuteTime": {
     "end_time": "2025-03-19T21:24:37.756553Z",
     "start_time": "2025-03-19T21:24:37.666359Z"
    }
   }
  },
  {
   "cell_type": "markdown",
   "source": [
    "### Get Document Tokens"
   ],
   "metadata": {
    "collapsed": false
   }
  },
  {
   "cell_type": "code",
   "execution_count": 130,
   "outputs": [],
   "source": [
    "song_lyric_tokens: list[list[str]] = million_songs.tokens.to_list()"
   ],
   "metadata": {
    "collapsed": false,
    "ExecuteTime": {
     "end_time": "2025-03-19T22:03:37.474059Z",
     "start_time": "2025-03-19T22:03:37.463699Z"
    }
   }
  },
  {
   "cell_type": "markdown",
   "source": [
    "### Remove Stopwords"
   ],
   "metadata": {
    "collapsed": false
   }
  },
  {
   "cell_type": "code",
   "execution_count": 131,
   "outputs": [],
   "source": [
    "STOPWORDS = get_stopwords()\n",
    "\n",
    "def _remove_stopwords(x, stopwords=STOPWORDS):\n",
    "    return remove_stopwords(document_tokens=x, stopwords=stopwords)\n",
    "\n",
    "song_lyric_tokens: list = list(map(_remove_stopwords, song_lyric_tokens))"
   ],
   "metadata": {
    "collapsed": false,
    "ExecuteTime": {
     "end_time": "2025-03-19T22:03:57.480663Z",
     "start_time": "2025-03-19T22:03:39.087320Z"
    }
   }
  },
  {
   "cell_type": "markdown",
   "source": [
    "### Remove Unknown Words"
   ],
   "metadata": {
    "collapsed": false
   }
  },
  {
   "cell_type": "code",
   "execution_count": 133,
   "outputs": [],
   "source": [
    "def _remove_unknown_words(tokens: list[str], _vocab: CorpusVocab = vocab) -> list[str]:\n",
    "    return remove_unknown_words(document_tokens=tokens,\n",
    "                                vocab=_vocab.vocab,\n",
    "                                unknown_word_identifier=_vocab.unknown_word_identifier)\n",
    "song_lyric_tokens: list = list(map(_remove_unknown_words, song_lyric_tokens))"
   ],
   "metadata": {
    "collapsed": false,
    "ExecuteTime": {
     "end_time": "2025-03-20T00:28:23.758347Z",
     "start_time": "2025-03-20T00:28:20.293060Z"
    }
   }
  },
  {
   "cell_type": "markdown",
   "source": [
    "### Take only <em>n=256</em> tokens from each token sequence"
   ],
   "metadata": {
    "collapsed": false
   }
  },
  {
   "cell_type": "code",
   "execution_count": 134,
   "outputs": [],
   "source": [
    "song_lyric_tokens = [s[:MAX_NUMBER_OF_TOKENS_PER_DOCUMENT] for s in song_lyric_tokens]"
   ],
   "metadata": {
    "collapsed": false,
    "ExecuteTime": {
     "end_time": "2025-03-20T00:28:28.987030Z",
     "start_time": "2025-03-20T00:28:27.743240Z"
    }
   }
  },
  {
   "cell_type": "markdown",
   "source": [
    "### Map Tokens in Document to Identifiers"
   ],
   "metadata": {
    "collapsed": false
   }
  },
  {
   "cell_type": "code",
   "execution_count": 135,
   "outputs": [],
   "source": [
    "# create initial encodings\n",
    "bow_embeddings = []\n",
    "\n",
    "for i, token_list in enumerate(song_lyric_tokens):\n",
    "    encoding = [0] * len(token_list)\n",
    "    for j, token in enumerate(token_list):\n",
    "        encoding[j] = vocab.get_token_index(token=token)\n",
    "    bow_embeddings.append(encoding)"
   ],
   "metadata": {
    "collapsed": false,
    "ExecuteTime": {
     "end_time": "2025-03-20T00:28:36.005829Z",
     "start_time": "2025-03-20T00:28:33.008338Z"
    }
   }
  },
  {
   "cell_type": "code",
   "execution_count": 136,
   "outputs": [
    {
     "data": {
      "text/plain": "set()"
     },
     "execution_count": 136,
     "metadata": {},
     "output_type": "execute_result"
    }
   ],
   "source": [
    "set(song_lyric_tokens[0]) & set(get_stopwords())"
   ],
   "metadata": {
    "collapsed": false,
    "ExecuteTime": {
     "end_time": "2025-03-20T00:30:11.463447Z",
     "start_time": "2025-03-20T00:30:11.413381Z"
    }
   }
  },
  {
   "cell_type": "code",
   "execution_count": 137,
   "outputs": [
    {
     "data": {
      "text/plain": "['look',\n 'face',\n 'wonderful',\n 'face',\n 'means',\n 'something',\n 'special',\n 'look',\n 'way',\n 'smiles',\n 'sees',\n 'lucky',\n 'can',\n 'one',\n '<unknown_word>',\n 'shes',\n 'just',\n 'kind',\n 'girl',\n 'makes',\n 'feel',\n 'fine',\n 'ever',\n 'believe',\n 'mine',\n 'shes',\n 'just',\n 'kind',\n 'girl',\n 'without',\n 'im',\n 'blue',\n 'ever',\n 'leaves',\n 'go',\n 'walk',\n 'park',\n 'holds',\n '<unknown_word>',\n 'hand',\n 'well',\n 'go',\n 'walking',\n 'hours',\n 'talking',\n 'things',\n 'plan',\n 'shes',\n 'just',\n 'kind',\n 'girl',\n 'makes',\n 'feel',\n 'fine',\n 'ever',\n 'believe',\n 'mine',\n 'shes',\n 'just',\n 'kind',\n 'girl',\n 'without',\n 'im',\n 'blue',\n 'ever',\n 'leaves']"
     },
     "execution_count": 137,
     "metadata": {},
     "output_type": "execute_result"
    }
   ],
   "source": [
    "song_lyric_tokens[0]"
   ],
   "metadata": {
    "collapsed": false,
    "ExecuteTime": {
     "end_time": "2025-03-20T00:30:18.087496Z",
     "start_time": "2025-03-20T00:30:18.060313Z"
    }
   }
  },
  {
   "cell_type": "code",
   "execution_count": 138,
   "outputs": [
    {
     "name": "stdout",
     "output_type": "stream",
     "text": [
      "[  80  180  823  180  962  133  964   80   36 2474 2109  574   11   19\n",
      "    0   61   12  390   37  288   41  306   79   73  143   61   12  390\n",
      "   37  158    2  125   79 1346   16  152 1876 2278    0  210   55   16\n",
      "  405 1203  378  131 1531   61   12  390   37  288   41  306   79   73\n",
      "  143   61   12  390   37  158    2  125   79 1346]\n"
     ]
    }
   ],
   "source": [
    "print(np.array(bow_embeddings[0]))"
   ],
   "metadata": {
    "collapsed": false,
    "ExecuteTime": {
     "end_time": "2025-03-20T00:30:25.332456Z",
     "start_time": "2025-03-20T00:30:25.260541Z"
    }
   }
  },
  {
   "cell_type": "code",
   "execution_count": 140,
   "outputs": [
    {
     "data": {
      "text/plain": "180"
     },
     "execution_count": 140,
     "metadata": {},
     "output_type": "execute_result"
    }
   ],
   "source": [
    "vocab.get_token_index(token='face')"
   ],
   "metadata": {
    "collapsed": false,
    "ExecuteTime": {
     "end_time": "2025-03-20T00:30:43.912107Z",
     "start_time": "2025-03-20T00:30:43.867087Z"
    }
   }
  },
  {
   "cell_type": "markdown",
   "source": [
    "### Create Inputs: Context Window & Target Words"
   ],
   "metadata": {
    "collapsed": false
   }
  },
  {
   "cell_type": "code",
   "execution_count": 145,
   "outputs": [
    {
     "data": {
      "text/plain": "600"
     },
     "execution_count": 145,
     "metadata": {},
     "output_type": "execute_result"
    }
   ],
   "source": [
    "million_songs.shape[0] // 96"
   ],
   "metadata": {
    "collapsed": false,
    "ExecuteTime": {
     "end_time": "2025-03-20T00:36:20.292720Z",
     "start_time": "2025-03-20T00:36:20.288359Z"
    }
   }
  },
  {
   "cell_type": "code",
   "execution_count": 169,
   "outputs": [],
   "source": [
    "CONTEXT_WINDOW = 4\n",
    "VOCAB_SIZE = vocab.vocab_size\n",
    "\n",
    "BATCH_SIZE = 96"
   ],
   "metadata": {
    "collapsed": false,
    "ExecuteTime": {
     "end_time": "2025-03-20T01:36:37.525751Z",
     "start_time": "2025-03-20T01:36:37.516556Z"
    }
   }
  },
  {
   "cell_type": "code",
   "execution_count": 170,
   "outputs": [],
   "source": [
    "from torch.utils.data import Dataset, DataLoader\n",
    "\n",
    "X, y = [], []\n",
    "\n",
    "for document_index in range(len(bow_embeddings)):\n",
    "    document_tokens = bow_embeddings[document_index]\n",
    "\n",
    "    if len(document_tokens) < CONTEXT_WINDOW * 2 + 1:\n",
    "        # skip any documents that aren't the minimum required length\n",
    "        continue\n",
    "\n",
    "    for index in range(len(document_tokens) - CONTEXT_WINDOW * 2):\n",
    "        _token_sequence = document_tokens[index: index + (CONTEXT_WINDOW * 2) + 1]\n",
    "\n",
    "        _input = _token_sequence.pop(CONTEXT_WINDOW)\n",
    "        _context_window = _token_sequence\n",
    "\n",
    "        for _target in _context_window:\n",
    "\n",
    "            X.append(_input)\n",
    "            y.append(_target)\n",
    "\n",
    "X = torch.tensor(X, dtype=torch.long)\n",
    "y = torch.tensor(y, dtype=torch.long)\n",
    "\n",
    "class MillionSongDataSet(Dataset):\n",
    "    def __init__(self, data, labels):\n",
    "        self.data = data\n",
    "        self.labels = labels\n",
    "\n",
    "    def __len__(self):\n",
    "        return len(self.data)\n",
    "\n",
    "    def __getitem__(self, index):\n",
    "        return self.data[index], self.labels[index]\n",
    "\n",
    "dataset = MillionSongDataSet(data=X, labels=y)\n",
    "dataloader = DataLoader(dataset, batch_size=BATCH_SIZE, shuffle=True)"
   ],
   "metadata": {
    "collapsed": false,
    "ExecuteTime": {
     "end_time": "2025-03-20T01:36:54.638919Z",
     "start_time": "2025-03-20T01:36:41.134929Z"
    }
   }
  },
  {
   "cell_type": "code",
   "execution_count": 171,
   "outputs": [
    {
     "data": {
      "text/plain": "torch.Size([50720472])"
     },
     "execution_count": 171,
     "metadata": {},
     "output_type": "execute_result"
    }
   ],
   "source": [
    "X.size()"
   ],
   "metadata": {
    "collapsed": false,
    "ExecuteTime": {
     "end_time": "2025-03-20T01:36:57.583277Z",
     "start_time": "2025-03-20T01:36:57.564047Z"
    }
   }
  },
  {
   "cell_type": "markdown",
   "source": [
    "batch_X = []\n",
    "batch_y = []\n",
    "\n",
    "for batch_index in range(BATCH_SIZE):\n",
    "    print(f\"preparing data for batch #{batch_index + 1}\")\n",
    "\n",
    "    starting_document_index = batch_index * BATCH_SIZE\n",
    "    ending_document_index = starting_document_index + BATCH_SIZE\n",
    "\n",
    "    print(f\"preparing data for document indices #{starting_document_index} – #{ending_document_index}\")\n",
    "    X, y = [], []\n",
    "\n",
    "    for document_index in range(starting_document_index, ending_document_index + 1):\n",
    "        document_tokens = bow_embeddings[document_index]\n",
    "\n",
    "        if len(document_tokens) < CONTEXT_WINDOW * 2 + 1:\n",
    "            # skip any documents that aren't the minimum required length\n",
    "            continue\n",
    "\n",
    "        for index in range(len(document_tokens) - CONTEXT_WINDOW * 2):\n",
    "            _token_sequence = document_tokens[index: index + (CONTEXT_WINDOW * 2) + 1]\n",
    "\n",
    "            _input = _token_sequence.pop(CONTEXT_WINDOW)\n",
    "            _context_window = _token_sequence\n",
    "\n",
    "            for _target in _context_window:\n",
    "\n",
    "                X.append(_input)\n",
    "                y.append(_target)\n",
    "\n",
    "    X = torch.tensor(X, dtype=torch.long)\n",
    "    y = torch.tensor(y, dtype=torch.long)\n",
    "\n",
    "    batch_X.append(X)\n",
    "    batch_y.append(y)"
   ],
   "metadata": {
    "collapsed": false
   }
  },
  {
   "cell_type": "markdown",
   "source": [
    "### Import & Train Model"
   ],
   "metadata": {
    "collapsed": false
   }
  },
  {
   "cell_type": "code",
   "execution_count": 172,
   "outputs": [],
   "source": [
    "NUM_EPOCHS = 20"
   ],
   "metadata": {
    "collapsed": false,
    "ExecuteTime": {
     "end_time": "2025-03-20T01:37:10.230029Z",
     "start_time": "2025-03-20T01:37:10.196502Z"
    }
   }
  },
  {
   "cell_type": "code",
   "execution_count": 173,
   "outputs": [],
   "source": [
    "model = SkipGramModel(\n",
    "    vocab_size=vocab.vocab_size\n",
    ")"
   ],
   "metadata": {
    "collapsed": false,
    "ExecuteTime": {
     "end_time": "2025-03-20T01:37:10.857312Z",
     "start_time": "2025-03-20T01:37:10.822676Z"
    }
   }
  },
  {
   "cell_type": "code",
   "execution_count": 174,
   "outputs": [],
   "source": [
    "import torch.nn as nn\n",
    "import torch.optim as optim\n",
    "from torch.optim.lr_scheduler import LambdaLR\n",
    "\n",
    "# define loss function\n",
    "loss_function = nn.CrossEntropyLoss()\n",
    "\n",
    "# define optimizer\n",
    "# -> include model parameters\n",
    "# -> include base learning rate\n",
    "optimizer = optim.Adam\n",
    "optimizer = optimizer(model.parameters(), lr=0.025)\n",
    "\n",
    "# define learning rate scheduler & function\n",
    "# this function will linearly decrease the base learning rate to zero\n",
    "# over the total number of epochs\n",
    "lr_lambda = lambda _epoch: (NUM_EPOCHS - _epoch) / NUM_EPOCHS\n",
    "lr_scheduler = LambdaLR(optimizer, lr_lambda=lr_lambda)"
   ],
   "metadata": {
    "collapsed": false,
    "ExecuteTime": {
     "end_time": "2025-03-20T01:37:11.643237Z",
     "start_time": "2025-03-20T01:37:11.510269Z"
    }
   }
  },
  {
   "cell_type": "code",
   "execution_count": 175,
   "outputs": [],
   "source": [
    "loss_by_epoch = []"
   ],
   "metadata": {
    "collapsed": false,
    "ExecuteTime": {
     "end_time": "2025-03-20T01:37:12.311811Z",
     "start_time": "2025-03-20T01:37:12.307804Z"
    }
   }
  },
  {
   "cell_type": "code",
   "execution_count": 176,
   "outputs": [
    {
     "name": "stdout",
     "output_type": "stream",
     "text": [
      "starting epoch #1\n"
     ]
    },
    {
     "ename": "KeyboardInterrupt",
     "evalue": "",
     "output_type": "error",
     "traceback": [
      "\u001B[0;31m---------------------------------------------------------------------------\u001B[0m",
      "\u001B[0;31mKeyboardInterrupt\u001B[0m                         Traceback (most recent call last)",
      "Cell \u001B[0;32mIn[176], line 10\u001B[0m\n\u001B[1;32m      8\u001B[0m forward_pass_results \u001B[38;5;241m=\u001B[39m model(batch_data)\n\u001B[1;32m      9\u001B[0m loss \u001B[38;5;241m=\u001B[39m loss_function(forward_pass_results, batch_labels)\n\u001B[0;32m---> 10\u001B[0m \u001B[43mloss\u001B[49m\u001B[38;5;241;43m.\u001B[39;49m\u001B[43mbackward\u001B[49m\u001B[43m(\u001B[49m\u001B[43m)\u001B[49m\n\u001B[1;32m     11\u001B[0m optimizer\u001B[38;5;241m.\u001B[39mstep()\n\u001B[1;32m     13\u001B[0m running_loss\u001B[38;5;241m.\u001B[39mappend(loss\u001B[38;5;241m.\u001B[39mitem())\n",
      "File \u001B[0;32m~/nlp/venv/lib/python3.9/site-packages/torch/_tensor.py:522\u001B[0m, in \u001B[0;36mTensor.backward\u001B[0;34m(self, gradient, retain_graph, create_graph, inputs)\u001B[0m\n\u001B[1;32m    512\u001B[0m \u001B[38;5;28;01mif\u001B[39;00m has_torch_function_unary(\u001B[38;5;28mself\u001B[39m):\n\u001B[1;32m    513\u001B[0m     \u001B[38;5;28;01mreturn\u001B[39;00m handle_torch_function(\n\u001B[1;32m    514\u001B[0m         Tensor\u001B[38;5;241m.\u001B[39mbackward,\n\u001B[1;32m    515\u001B[0m         (\u001B[38;5;28mself\u001B[39m,),\n\u001B[0;32m   (...)\u001B[0m\n\u001B[1;32m    520\u001B[0m         inputs\u001B[38;5;241m=\u001B[39minputs,\n\u001B[1;32m    521\u001B[0m     )\n\u001B[0;32m--> 522\u001B[0m \u001B[43mtorch\u001B[49m\u001B[38;5;241;43m.\u001B[39;49m\u001B[43mautograd\u001B[49m\u001B[38;5;241;43m.\u001B[39;49m\u001B[43mbackward\u001B[49m\u001B[43m(\u001B[49m\n\u001B[1;32m    523\u001B[0m \u001B[43m    \u001B[49m\u001B[38;5;28;43mself\u001B[39;49m\u001B[43m,\u001B[49m\u001B[43m \u001B[49m\u001B[43mgradient\u001B[49m\u001B[43m,\u001B[49m\u001B[43m \u001B[49m\u001B[43mretain_graph\u001B[49m\u001B[43m,\u001B[49m\u001B[43m \u001B[49m\u001B[43mcreate_graph\u001B[49m\u001B[43m,\u001B[49m\u001B[43m \u001B[49m\u001B[43minputs\u001B[49m\u001B[38;5;241;43m=\u001B[39;49m\u001B[43minputs\u001B[49m\n\u001B[1;32m    524\u001B[0m \u001B[43m\u001B[49m\u001B[43m)\u001B[49m\n",
      "File \u001B[0;32m~/nlp/venv/lib/python3.9/site-packages/torch/autograd/__init__.py:266\u001B[0m, in \u001B[0;36mbackward\u001B[0;34m(tensors, grad_tensors, retain_graph, create_graph, grad_variables, inputs)\u001B[0m\n\u001B[1;32m    261\u001B[0m     retain_graph \u001B[38;5;241m=\u001B[39m create_graph\n\u001B[1;32m    263\u001B[0m \u001B[38;5;66;03m# The reason we repeat the same comment below is that\u001B[39;00m\n\u001B[1;32m    264\u001B[0m \u001B[38;5;66;03m# some Python versions print out the first line of a multi-line function\u001B[39;00m\n\u001B[1;32m    265\u001B[0m \u001B[38;5;66;03m# calls in the traceback and some print out the last line\u001B[39;00m\n\u001B[0;32m--> 266\u001B[0m \u001B[43mVariable\u001B[49m\u001B[38;5;241;43m.\u001B[39;49m\u001B[43m_execution_engine\u001B[49m\u001B[38;5;241;43m.\u001B[39;49m\u001B[43mrun_backward\u001B[49m\u001B[43m(\u001B[49m\u001B[43m  \u001B[49m\u001B[38;5;66;43;03m# Calls into the C++ engine to run the backward pass\u001B[39;49;00m\n\u001B[1;32m    267\u001B[0m \u001B[43m    \u001B[49m\u001B[43mtensors\u001B[49m\u001B[43m,\u001B[49m\n\u001B[1;32m    268\u001B[0m \u001B[43m    \u001B[49m\u001B[43mgrad_tensors_\u001B[49m\u001B[43m,\u001B[49m\n\u001B[1;32m    269\u001B[0m \u001B[43m    \u001B[49m\u001B[43mretain_graph\u001B[49m\u001B[43m,\u001B[49m\n\u001B[1;32m    270\u001B[0m \u001B[43m    \u001B[49m\u001B[43mcreate_graph\u001B[49m\u001B[43m,\u001B[49m\n\u001B[1;32m    271\u001B[0m \u001B[43m    \u001B[49m\u001B[43minputs\u001B[49m\u001B[43m,\u001B[49m\n\u001B[1;32m    272\u001B[0m \u001B[43m    \u001B[49m\u001B[43mallow_unreachable\u001B[49m\u001B[38;5;241;43m=\u001B[39;49m\u001B[38;5;28;43;01mTrue\u001B[39;49;00m\u001B[43m,\u001B[49m\n\u001B[1;32m    273\u001B[0m \u001B[43m    \u001B[49m\u001B[43maccumulate_grad\u001B[49m\u001B[38;5;241;43m=\u001B[39;49m\u001B[38;5;28;43;01mTrue\u001B[39;49;00m\u001B[43m,\u001B[49m\n\u001B[1;32m    274\u001B[0m \u001B[43m\u001B[49m\u001B[43m)\u001B[49m\n",
      "\u001B[0;31mKeyboardInterrupt\u001B[0m: "
     ]
    }
   ],
   "source": [
    "for epoch in range(NUM_EPOCHS):\n",
    "    print(f\"starting epoch #{epoch + 1}\")\n",
    "    running_loss = []\n",
    "\n",
    "    for batch_data, batch_labels in dataloader:\n",
    "\n",
    "        optimizer.zero_grad()\n",
    "        forward_pass_results = model(batch_data)\n",
    "        loss = loss_function(forward_pass_results, batch_labels)\n",
    "        loss.backward()\n",
    "        optimizer.step()\n",
    "\n",
    "        running_loss.append(loss.item())\n",
    "\n",
    "    lr_scheduler.step()\n",
    "\n",
    "    print(f\"mean loss for epoch {epoch}: {np.mean(running_loss)}\")\n",
    "    loss_by_epoch.append(running_loss)\n",
    "\n",
    "   # model_path = f\"embeddings/skip_gram/model/model_at_epoch_{epoch + 1}.pt\"\n",
    "   # torch.save(model, model_path)"
   ],
   "metadata": {
    "collapsed": false,
    "ExecuteTime": {
     "end_time": "2025-03-20T01:50:25.589228Z",
     "start_time": "2025-03-20T01:37:13.116238Z"
    }
   }
  },
  {
   "cell_type": "code",
   "execution_count": 154,
   "outputs": [],
   "source": [
    "torch.save(model, 'embeddings/skip_gram/model/skip_gram.pt')"
   ],
   "metadata": {
    "collapsed": false,
    "ExecuteTime": {
     "end_time": "2025-03-20T01:28:31.333545Z",
     "start_time": "2025-03-20T01:28:31.327379Z"
    }
   }
  },
  {
   "cell_type": "code",
   "execution_count": 155,
   "outputs": [
    {
     "data": {
      "text/plain": "[6.364006923304664,\n 6.261812938584222,\n 6.1929247577985125,\n 6.125681042671204,\n 6.047164254718357]"
     },
     "execution_count": 155,
     "metadata": {},
     "output_type": "execute_result"
    }
   ],
   "source": [
    "mean_loss_by_epoch = list(map(np.mean, loss_by_epoch))\n",
    "mean_loss_by_epoch"
   ],
   "metadata": {
    "collapsed": false,
    "ExecuteTime": {
     "end_time": "2025-03-20T01:28:34.222730Z",
     "start_time": "2025-03-20T01:28:34.185911Z"
    }
   }
  },
  {
   "cell_type": "code",
   "execution_count": null,
   "outputs": [],
   "source": [],
   "metadata": {
    "collapsed": false
   }
  }
 ],
 "metadata": {
  "kernelspec": {
   "display_name": "Python 3",
   "language": "python",
   "name": "python3"
  },
  "language_info": {
   "codemirror_mode": {
    "name": "ipython",
    "version": 2
   },
   "file_extension": ".py",
   "mimetype": "text/x-python",
   "name": "python",
   "nbconvert_exporter": "python",
   "pygments_lexer": "ipython2",
   "version": "2.7.6"
  }
 },
 "nbformat": 4,
 "nbformat_minor": 0
}
