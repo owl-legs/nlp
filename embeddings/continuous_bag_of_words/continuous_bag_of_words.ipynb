{
 "cells": [
  {
   "cell_type": "code",
   "execution_count": 1,
   "outputs": [],
   "source": [
    "import os\n",
    "os.chdir('/Users/alexrotondo/nlp/')"
   ],
   "metadata": {
    "collapsed": false,
    "ExecuteTime": {
     "end_time": "2025-03-12T04:35:56.770628Z",
     "start_time": "2025-03-12T04:35:56.762303Z"
    }
   }
  },
  {
   "cell_type": "code",
   "execution_count": 2,
   "outputs": [],
   "source": [
    "from stopwords import get_stopwords\n",
    "from embeddings.utils.preprocessing.string_preprocessing import lower_text, remove_punctuation, tokenize_document\n",
    "from embeddings.utils.document_config import DocumentConfig\n",
    "from embeddings.utils.preprocessing.token_preprocessing import remove_stopwords, remove_unknown_words\n",
    "from embeddings.utils.vocab_config import CorpusVocabConfig\n",
    "from embeddings.utils.vocab import CorpusVocab"
   ],
   "metadata": {
    "collapsed": false,
    "ExecuteTime": {
     "end_time": "2025-03-12T04:35:56.776680Z",
     "start_time": "2025-03-12T04:35:56.765419Z"
    }
   }
  },
  {
   "cell_type": "code",
   "execution_count": 3,
   "metadata": {
    "collapsed": true,
    "ExecuteTime": {
     "end_time": "2025-03-12T04:35:58.482546Z",
     "start_time": "2025-03-12T04:35:56.775472Z"
    }
   },
   "outputs": [],
   "source": [
    "import numpy as np\n",
    "import pandas as pd\n",
    "import torch"
   ]
  },
  {
   "cell_type": "code",
   "execution_count": 4,
   "outputs": [],
   "source": [
    "import seaborn as sb\n",
    "import matplotlib.pyplot as plt\n",
    "sb.set_style('darkgrid')"
   ],
   "metadata": {
    "collapsed": false,
    "ExecuteTime": {
     "end_time": "2025-03-12T04:35:58.485848Z",
     "start_time": "2025-03-12T04:35:58.483200Z"
    }
   }
  },
  {
   "cell_type": "code",
   "execution_count": 5,
   "outputs": [
    {
     "data": {
      "text/plain": "  artist                   song                                        link  \\\n0   ABBA  Ahe's My Kind Of Girl  /a/abba/ahes+my+kind+of+girl_20598417.html   \n1   ABBA       Andante, Andante       /a/abba/andante+andante_20002708.html   \n2   ABBA         As Good As New        /a/abba/as+good+as+new_20003033.html   \n3   ABBA                   Bang                  /a/abba/bang_20598415.html   \n4   ABBA       Bang-A-Boomerang      /a/abba/bang+a+boomerang_20002668.html   \n\n                                                text  \n0  Look at her face, it's a wonderful face  \\nAnd...  \n1  Take it easy with me, please  \\nTouch me gentl...  \n2  I'll never know why I had to go  \\nWhy I had t...  \n3  Making somebody happy is a question of give an...  \n4  Making somebody happy is a question of give an...  ",
      "text/html": "<div>\n<style scoped>\n    .dataframe tbody tr th:only-of-type {\n        vertical-align: middle;\n    }\n\n    .dataframe tbody tr th {\n        vertical-align: top;\n    }\n\n    .dataframe thead th {\n        text-align: right;\n    }\n</style>\n<table border=\"1\" class=\"dataframe\">\n  <thead>\n    <tr style=\"text-align: right;\">\n      <th></th>\n      <th>artist</th>\n      <th>song</th>\n      <th>link</th>\n      <th>text</th>\n    </tr>\n  </thead>\n  <tbody>\n    <tr>\n      <th>0</th>\n      <td>ABBA</td>\n      <td>Ahe's My Kind Of Girl</td>\n      <td>/a/abba/ahes+my+kind+of+girl_20598417.html</td>\n      <td>Look at her face, it's a wonderful face  \\nAnd...</td>\n    </tr>\n    <tr>\n      <th>1</th>\n      <td>ABBA</td>\n      <td>Andante, Andante</td>\n      <td>/a/abba/andante+andante_20002708.html</td>\n      <td>Take it easy with me, please  \\nTouch me gentl...</td>\n    </tr>\n    <tr>\n      <th>2</th>\n      <td>ABBA</td>\n      <td>As Good As New</td>\n      <td>/a/abba/as+good+as+new_20003033.html</td>\n      <td>I'll never know why I had to go  \\nWhy I had t...</td>\n    </tr>\n    <tr>\n      <th>3</th>\n      <td>ABBA</td>\n      <td>Bang</td>\n      <td>/a/abba/bang_20598415.html</td>\n      <td>Making somebody happy is a question of give an...</td>\n    </tr>\n    <tr>\n      <th>4</th>\n      <td>ABBA</td>\n      <td>Bang-A-Boomerang</td>\n      <td>/a/abba/bang+a+boomerang_20002668.html</td>\n      <td>Making somebody happy is a question of give an...</td>\n    </tr>\n  </tbody>\n</table>\n</div>"
     },
     "execution_count": 5,
     "metadata": {},
     "output_type": "execute_result"
    }
   ],
   "source": [
    "million_songs = pd.read_csv('embeddings/data/spotify_millsongdata.csv')\n",
    "million_songs.head()"
   ],
   "metadata": {
    "collapsed": false,
    "ExecuteTime": {
     "end_time": "2025-03-12T04:35:59.173129Z",
     "start_time": "2025-03-12T04:35:58.486495Z"
    }
   }
  },
  {
   "cell_type": "code",
   "execution_count": 6,
   "outputs": [],
   "source": [
    "TOTAL_DOCUMENTS = million_songs.shape[0]"
   ],
   "metadata": {
    "collapsed": false,
    "ExecuteTime": {
     "end_time": "2025-03-12T04:35:59.176419Z",
     "start_time": "2025-03-12T04:35:59.173493Z"
    }
   }
  },
  {
   "cell_type": "code",
   "execution_count": 7,
   "outputs": [
    {
     "data": {
      "text/plain": "  artist                   song                                        link  \\\n0   ABBA  Ahe's My Kind Of Girl  /a/abba/ahes+my+kind+of+girl_20598417.html   \n1   ABBA       Andante, Andante       /a/abba/andante+andante_20002708.html   \n2   ABBA         As Good As New        /a/abba/as+good+as+new_20003033.html   \n3   ABBA                   Bang                  /a/abba/bang_20598415.html   \n4   ABBA       Bang-A-Boomerang      /a/abba/bang+a+boomerang_20002668.html   \n\n                                                text  \n0  look at her face its a wonderful face  and it ...  \n1  take it easy with me please  touch me gently l...  \n2  ill never know why i had to go  why i had to p...  \n3  making somebody happy is a question of give an...  \n4  making somebody happy is a question of give an...  ",
      "text/html": "<div>\n<style scoped>\n    .dataframe tbody tr th:only-of-type {\n        vertical-align: middle;\n    }\n\n    .dataframe tbody tr th {\n        vertical-align: top;\n    }\n\n    .dataframe thead th {\n        text-align: right;\n    }\n</style>\n<table border=\"1\" class=\"dataframe\">\n  <thead>\n    <tr style=\"text-align: right;\">\n      <th></th>\n      <th>artist</th>\n      <th>song</th>\n      <th>link</th>\n      <th>text</th>\n    </tr>\n  </thead>\n  <tbody>\n    <tr>\n      <th>0</th>\n      <td>ABBA</td>\n      <td>Ahe's My Kind Of Girl</td>\n      <td>/a/abba/ahes+my+kind+of+girl_20598417.html</td>\n      <td>look at her face its a wonderful face  and it ...</td>\n    </tr>\n    <tr>\n      <th>1</th>\n      <td>ABBA</td>\n      <td>Andante, Andante</td>\n      <td>/a/abba/andante+andante_20002708.html</td>\n      <td>take it easy with me please  touch me gently l...</td>\n    </tr>\n    <tr>\n      <th>2</th>\n      <td>ABBA</td>\n      <td>As Good As New</td>\n      <td>/a/abba/as+good+as+new_20003033.html</td>\n      <td>ill never know why i had to go  why i had to p...</td>\n    </tr>\n    <tr>\n      <th>3</th>\n      <td>ABBA</td>\n      <td>Bang</td>\n      <td>/a/abba/bang_20598415.html</td>\n      <td>making somebody happy is a question of give an...</td>\n    </tr>\n    <tr>\n      <th>4</th>\n      <td>ABBA</td>\n      <td>Bang-A-Boomerang</td>\n      <td>/a/abba/bang+a+boomerang_20002668.html</td>\n      <td>making somebody happy is a question of give an...</td>\n    </tr>\n  </tbody>\n</table>\n</div>"
     },
     "execution_count": 7,
     "metadata": {},
     "output_type": "execute_result"
    }
   ],
   "source": [
    "def remove_newline(text):\n",
    "    return text.replace(\"\\n\", \"\")\n",
    "\n",
    "million_songs.text = million_songs.text.apply(remove_newline)\n",
    "million_songs.text = million_songs.text.apply(lower_text)\n",
    "million_songs.text = million_songs.text.apply(remove_punctuation)\n",
    "million_songs.head()"
   ],
   "metadata": {
    "collapsed": false,
    "ExecuteTime": {
     "end_time": "2025-03-12T04:35:59.643861Z",
     "start_time": "2025-03-12T04:35:59.209697Z"
    }
   }
  },
  {
   "cell_type": "code",
   "execution_count": 8,
   "outputs": [],
   "source": [
    "million_songs['tokens'] = million_songs.text.apply(tokenize_document)\n",
    "million_songs['n_tokens'] = million_songs.tokens.apply(len)"
   ],
   "metadata": {
    "collapsed": false,
    "ExecuteTime": {
     "end_time": "2025-03-12T04:36:01.395474Z",
     "start_time": "2025-03-12T04:35:59.644269Z"
    }
   }
  },
  {
   "cell_type": "code",
   "execution_count": 9,
   "outputs": [
    {
     "data": {
      "text/plain": "<Figure size 1000x500 with 1 Axes>",
      "image/png": "[encoded data removed]"
     },
     "metadata": {},
     "output_type": "display_data"
    }
   ],
   "source": [
    "plt.figure(figsize=(10, 5))\n",
    "sb.violinplot(data=million_songs, x='n_tokens')\n",
    "plt.xlabel(\"Number of Tokens in Lyric Sample\")\n",
    "plt.show()"
   ],
   "metadata": {
    "collapsed": false,
    "ExecuteTime": {
     "end_time": "2025-03-12T04:36:01.619878Z",
     "start_time": "2025-03-12T04:36:01.389318Z"
    }
   }
  },
  {
   "cell_type": "code",
   "execution_count": 148,
   "outputs": [],
   "source": [
    "MAX_VOCAB_WORDS = 4000\n",
    "\n",
    "vocab_config = CorpusVocabConfig(\n",
    "    max_tokens=MAX_VOCAB_WORDS,\n",
    "    randomize_token_index=False\n",
    ")\n",
    "\n",
    "document_config = DocumentConfig.create(\n",
    "    lower_text=False, #already done\n",
    "    exclude_punctuation=False, #already done\n",
    "    remove_stopwords=True,\n",
    "    excluded_punctuation=None,\n",
    "    stopwords=None,\n",
    ")"
   ],
   "metadata": {
    "collapsed": false,
    "ExecuteTime": {
     "end_time": "2025-03-12T05:29:24.129392Z",
     "start_time": "2025-03-12T05:29:24.080248Z"
    }
   }
  },
  {
   "cell_type": "code",
   "execution_count": 149,
   "outputs": [],
   "source": [
    "song_lyrics: list[str] = million_songs.text.to_list()"
   ],
   "metadata": {
    "collapsed": false,
    "ExecuteTime": {
     "end_time": "2025-03-12T05:29:24.762781Z",
     "start_time": "2025-03-12T05:29:24.757540Z"
    }
   }
  },
  {
   "cell_type": "code",
   "execution_count": 150,
   "outputs": [],
   "source": [
    "vocab: CorpusVocab = CorpusVocab.create(\n",
    "    documents=song_lyrics,\n",
    "    document_config=document_config,\n",
    "    corpus_vocab_config=vocab_config\n",
    ")"
   ],
   "metadata": {
    "collapsed": false,
    "ExecuteTime": {
     "end_time": "2025-03-12T05:29:46.305944Z",
     "start_time": "2025-03-12T05:29:25.178352Z"
    }
   }
  },
  {
   "cell_type": "code",
   "execution_count": 151,
   "outputs": [],
   "source": [
    "assert vocab.vocab_size == MAX_VOCAB_WORDS + 1"
   ],
   "metadata": {
    "collapsed": false,
    "ExecuteTime": {
     "end_time": "2025-03-12T05:29:46.321395Z",
     "start_time": "2025-03-12T05:29:46.317120Z"
    }
   }
  },
  {
   "cell_type": "markdown",
   "source": [
    "### Split Each Document into Tokens"
   ],
   "metadata": {
    "collapsed": false
   }
  },
  {
   "cell_type": "code",
   "execution_count": 152,
   "outputs": [],
   "source": [
    "song_lyric_tokens: list[list[str]] = million_songs.tokens.to_list()"
   ],
   "metadata": {
    "collapsed": false,
    "ExecuteTime": {
     "end_time": "2025-03-12T05:29:46.842574Z",
     "start_time": "2025-03-12T05:29:46.841025Z"
    }
   }
  },
  {
   "cell_type": "markdown",
   "source": [
    "### Remove Stopwords"
   ],
   "metadata": {
    "collapsed": false
   }
  },
  {
   "cell_type": "code",
   "execution_count": 153,
   "outputs": [],
   "source": [
    "STOPWORDS = get_stopwords()\n",
    "\n",
    "def _remove_stopwords(x, stopwords=STOPWORDS):\n",
    "    return remove_stopwords(document_tokens=x, stopwords=stopwords)\n",
    "\n",
    "song_lyric_tokens: list = list(map(_remove_stopwords, song_lyric_tokens))"
   ],
   "metadata": {
    "collapsed": false,
    "ExecuteTime": {
     "end_time": "2025-03-12T05:30:04.646369Z",
     "start_time": "2025-03-12T05:29:46.843618Z"
    }
   }
  },
  {
   "cell_type": "markdown",
   "source": [
    "### Remove Unknown Words"
   ],
   "metadata": {
    "collapsed": false
   }
  },
  {
   "cell_type": "code",
   "execution_count": 154,
   "outputs": [],
   "source": [
    "def _remove_unknown_words(tokens: list[str], _vocab: CorpusVocab = vocab) -> list[str]:\n",
    "    return remove_unknown_words(document_tokens=tokens,\n",
    "                                vocab=_vocab.vocab,\n",
    "                                unknown_word_identifier=_vocab.unknown_word_identifier)\n",
    "song_lyric_tokens: list = list(map(_remove_unknown_words, song_lyric_tokens))"
   ],
   "metadata": {
    "collapsed": false,
    "ExecuteTime": {
     "end_time": "2025-03-12T05:30:05.744495Z",
     "start_time": "2025-03-12T05:30:04.671601Z"
    }
   }
  },
  {
   "cell_type": "markdown",
   "source": [
    "### Take only <em>n=256</em> tokens from each token sequence"
   ],
   "metadata": {
    "collapsed": false
   }
  },
  {
   "cell_type": "code",
   "execution_count": 155,
   "outputs": [],
   "source": [
    "song_lyric_tokens = [s[:256] for s in song_lyric_tokens]"
   ],
   "metadata": {
    "collapsed": false,
    "ExecuteTime": {
     "end_time": "2025-03-12T05:30:05.952899Z",
     "start_time": "2025-03-12T05:30:05.807Z"
    }
   }
  },
  {
   "cell_type": "markdown",
   "source": [
    "### Map Tokens in Document to Identifiers"
   ],
   "metadata": {
    "collapsed": false
   }
  },
  {
   "cell_type": "code",
   "execution_count": 156,
   "outputs": [],
   "source": [
    "# create one-hot embeddings\n",
    "bow_embeddings = []\n",
    "\n",
    "for i, token_list in enumerate(song_lyric_tokens):\n",
    "    encoding = [0] * len(token_list)\n",
    "    for j, token in enumerate(token_list):\n",
    "        encoding[j] = vocab.get_token_index(token=token)\n",
    "    bow_embeddings.append(encoding)"
   ],
   "metadata": {
    "collapsed": false,
    "ExecuteTime": {
     "end_time": "2025-03-12T05:30:08.576002Z",
     "start_time": "2025-03-12T05:30:06.039784Z"
    }
   }
  },
  {
   "cell_type": "code",
   "execution_count": 157,
   "outputs": [
    {
     "name": "stdout",
     "output_type": "stream",
     "text": [
      "[  80  180  823  180  962  133  964   80   36 2474 2109  574   11   19\n",
      "    0   61   12  390   37  288   41  306   79   73  143   61   12  390\n",
      "   37  158    2  125   79 1346   16  152 1876 2278    0  210   55   16\n",
      "  405 1203  378  131 1531   61   12  390   37  288   41  306   79   73\n",
      "  143   61   12  390   37  158    2  125   79 1346]\n"
     ]
    }
   ],
   "source": [
    "print(np.array(bow_embeddings[0]))"
   ],
   "metadata": {
    "collapsed": false,
    "ExecuteTime": {
     "end_time": "2025-03-12T05:30:08.583899Z",
     "start_time": "2025-03-12T05:30:08.575046Z"
    }
   }
  },
  {
   "cell_type": "markdown",
   "source": [
    "### Create Inputs: Context Window & Target Words"
   ],
   "metadata": {
    "collapsed": false
   }
  },
  {
   "cell_type": "code",
   "execution_count": 158,
   "outputs": [
    {
     "name": "stdout",
     "output_type": "stream",
     "text": [
      "total documents: 57650\n"
     ]
    }
   ],
   "source": [
    "print(f\"total documents: {TOTAL_DOCUMENTS}\")"
   ],
   "metadata": {
    "collapsed": false,
    "ExecuteTime": {
     "end_time": "2025-03-12T05:30:08.584439Z",
     "start_time": "2025-03-12T05:30:08.583210Z"
    }
   }
  },
  {
   "cell_type": "code",
   "execution_count": 160,
   "outputs": [
    {
     "name": "stdout",
     "output_type": "stream",
     "text": [
      "number of batches (size 256): 600\n"
     ]
    }
   ],
   "source": [
    "N_BATCHES = TOTAL_DOCUMENTS // 96\n",
    "print(f\"number of batches (size 256): {N_BATCHES}\")"
   ],
   "metadata": {
    "collapsed": false,
    "ExecuteTime": {
     "end_time": "2025-03-12T05:30:24.068162Z",
     "start_time": "2025-03-12T05:30:24.042273Z"
    }
   }
  },
  {
   "cell_type": "code",
   "execution_count": 162,
   "outputs": [],
   "source": [
    "CONTEXT_WINDOW = 4\n",
    "VOCAB_SIZE = vocab.vocab_size\n",
    "\n",
    "X = []\n",
    "y = []\n",
    "\n",
    "for row in range(len(bow_embeddings)):\n",
    "    _tokens = bow_embeddings[row]\n",
    "\n",
    "    for index in range(len(_tokens) - CONTEXT_WINDOW * 2):\n",
    "        _context_window_with_target = _tokens[index: index + (CONTEXT_WINDOW * 2) + 1]\n",
    "\n",
    "        target = _context_window_with_target.pop(CONTEXT_WINDOW)\n",
    "        context_window = _context_window_with_target\n",
    "\n",
    "        y.append(target)\n",
    "        X.append(context_window)"
   ],
   "metadata": {
    "collapsed": false,
    "ExecuteTime": {
     "end_time": "2025-03-12T05:31:40.590738Z",
     "start_time": "2025-03-12T05:31:31.044905Z"
    }
   }
  },
  {
   "cell_type": "code",
   "execution_count": 163,
   "outputs": [],
   "source": [
    "input = torch.tensor(X, dtype=torch.int64)\n",
    "labels = torch.tensor(y, dtype=torch.int64)"
   ],
   "metadata": {
    "collapsed": false,
    "ExecuteTime": {
     "end_time": "2025-03-12T05:31:44.385153Z",
     "start_time": "2025-03-12T05:31:44.383525Z"
    }
   }
  },
  {
   "cell_type": "code",
   "execution_count": 164,
   "outputs": [
    {
     "data": {
      "text/plain": "tensor(962)"
     },
     "execution_count": 164,
     "metadata": {},
     "output_type": "execute_result"
    }
   ],
   "source": [
    "labels[0]"
   ],
   "metadata": {
    "collapsed": false,
    "ExecuteTime": {
     "end_time": "2025-03-12T05:31:44.395839Z",
     "start_time": "2025-03-12T05:31:44.386677Z"
    }
   }
  },
  {
   "cell_type": "code",
   "execution_count": 165,
   "outputs": [
    {
     "data": {
      "text/plain": "torch.Size([6340059, 8])"
     },
     "execution_count": 165,
     "metadata": {},
     "output_type": "execute_result"
    }
   ],
   "source": [
    "input.size()"
   ],
   "metadata": {
    "collapsed": false,
    "ExecuteTime": {
     "end_time": "2025-03-12T05:31:44.396252Z",
     "start_time": "2025-03-12T05:31:44.394596Z"
    }
   }
  },
  {
   "cell_type": "code",
   "execution_count": 166,
   "outputs": [
    {
     "data": {
      "text/plain": "torch.Size([6340059])"
     },
     "execution_count": 166,
     "metadata": {},
     "output_type": "execute_result"
    }
   ],
   "source": [
    "labels.size()"
   ],
   "metadata": {
    "collapsed": false,
    "ExecuteTime": {
     "end_time": "2025-03-12T05:31:44.402428Z",
     "start_time": "2025-03-12T05:31:44.395988Z"
    }
   }
  },
  {
   "cell_type": "code",
   "execution_count": 167,
   "outputs": [],
   "source": [
    "device = torch.device(\"cuda\" if torch.cuda.is_available() else \"cpu\")"
   ],
   "metadata": {
    "collapsed": false,
    "ExecuteTime": {
     "end_time": "2025-03-12T05:31:44.402571Z",
     "start_time": "2025-03-12T05:31:44.398782Z"
    }
   }
  },
  {
   "cell_type": "code",
   "execution_count": 169,
   "outputs": [],
   "source": [
    "from embeddings.continuous_bag_of_words.model import ContinuousBagOfWords\n",
    "\n",
    "model = ContinuousBagOfWords(\n",
    "    vocab_size=vocab.vocab_size\n",
    ")"
   ],
   "metadata": {
    "collapsed": false,
    "ExecuteTime": {
     "end_time": "2025-03-12T05:38:11.714542Z",
     "start_time": "2025-03-12T05:38:11.566309Z"
    }
   }
  },
  {
   "cell_type": "code",
   "execution_count": 170,
   "outputs": [
    {
     "data": {
      "text/plain": "tensor([[  80,  180,  823,  180,  133,  964,   80,   36],\n        [ 180,  823,  180,  962,  964,   80,   36, 2474]])"
     },
     "execution_count": 170,
     "metadata": {},
     "output_type": "execute_result"
    }
   ],
   "source": [
    "input[0:2]"
   ],
   "metadata": {
    "collapsed": false,
    "ExecuteTime": {
     "end_time": "2025-03-12T05:38:13.323463Z",
     "start_time": "2025-03-12T05:38:13.295851Z"
    }
   }
  },
  {
   "cell_type": "code",
   "execution_count": 171,
   "outputs": [
    {
     "data": {
      "text/plain": "torch.Size([10, 4001])"
     },
     "execution_count": 171,
     "metadata": {},
     "output_type": "execute_result"
    }
   ],
   "source": [
    "x = input[0:10]\n",
    "model(x=x).size()"
   ],
   "metadata": {
    "collapsed": false,
    "ExecuteTime": {
     "end_time": "2025-03-12T05:38:14.429947Z",
     "start_time": "2025-03-12T05:38:14.336833Z"
    }
   }
  },
  {
   "cell_type": "code",
   "execution_count": 172,
   "outputs": [],
   "source": [
    "BATCH_SIZE = 96\n",
    "NUM_BATCHES = TOTAL_DOCUMENTS // BATCH_SIZE\n",
    "NUM_EPOCHS = 5"
   ],
   "metadata": {
    "collapsed": false,
    "ExecuteTime": {
     "end_time": "2025-03-12T05:38:17.423982Z",
     "start_time": "2025-03-12T05:38:17.395704Z"
    }
   }
  },
  {
   "cell_type": "code",
   "execution_count": 173,
   "outputs": [],
   "source": [
    "import torch.nn as nn\n",
    "import torch.optim as optim\n",
    "from torch.optim.lr_scheduler import LambdaLR\n",
    "\n",
    "# define loss function\n",
    "loss_function = nn.CrossEntropyLoss()\n",
    "\n",
    "# define optimizer\n",
    "# -> include model parameters\n",
    "# -> include base learning rate\n",
    "optimizer = optim.Adam\n",
    "optimizer = optimizer(model.parameters(), lr=0.025)\n",
    "\n",
    "# define learning rate scheduler & function\n",
    "# this function will linearly decrease the base learning rate to zero\n",
    "# over the total number of epochs\n",
    "lr_lambda = lambda _epoch: (NUM_EPOCHS - _epoch) / NUM_EPOCHS\n",
    "lr_scheduler = LambdaLR(optimizer, lr_lambda=lr_lambda)\n"
   ],
   "metadata": {
    "collapsed": false,
    "ExecuteTime": {
     "end_time": "2025-03-12T05:38:18.202789Z",
     "start_time": "2025-03-12T05:38:18.197446Z"
    }
   }
  },
  {
   "cell_type": "code",
   "execution_count": 174,
   "outputs": [],
   "source": [
    "loss_by_epoch = []\n",
    "\n",
    "for epoch in range(NUM_EPOCHS):\n",
    "    running_loss = []\n",
    "\n",
    "    for batch_index in range(NUM_BATCHES):\n",
    "        starting_index = batch_index * BATCH_SIZE\n",
    "\n",
    "        batch_input = input[starting_index: starting_index + BATCH_SIZE + 1]\n",
    "        batch_labels = labels[starting_index: starting_index + BATCH_SIZE + 1]\n",
    "\n",
    "        optimizer.zero_grad()\n",
    "        forward_pass_results = model(batch_input)\n",
    "        loss = loss_function(forward_pass_results, batch_labels)\n",
    "        loss.backward()\n",
    "        optimizer.step()\n",
    "\n",
    "        running_loss.append(loss.item())\n",
    "\n",
    "    loss_by_epoch.append(running_loss)"
   ],
   "metadata": {
    "collapsed": false,
    "ExecuteTime": {
     "end_time": "2025-03-12T05:38:55.988749Z",
     "start_time": "2025-03-12T05:38:20.358463Z"
    }
   }
  },
  {
   "cell_type": "code",
   "execution_count": 181,
   "outputs": [],
   "source": [
    "torch.save(model, 'embeddings/continuous_bag_of_words/model/cbow.pt')"
   ],
   "metadata": {
    "collapsed": false,
    "ExecuteTime": {
     "end_time": "2025-03-12T05:41:32.373287Z",
     "start_time": "2025-03-12T05:41:32.142072Z"
    }
   }
  },
  {
   "cell_type": "code",
   "execution_count": 180,
   "outputs": [
    {
     "data": {
      "text/plain": "<Figure size 640x480 with 1 Axes>",
      "image/png": "[encoded data removed]"
     },
     "metadata": {},
     "output_type": "display_data"
    }
   ],
   "source": [
    "sb.lineplot(x=range(1, 1+NUM_BATCHES), y=loss_by_epoch[0], markers='o')\n",
    "plt.title(\"Is Our Children Learning?\")\n",
    "plt.xlabel(\"Batch Index\")\n",
    "plt.ylabel(\"Cross Entropy Loss\")\n",
    "plt.show()"
   ],
   "metadata": {
    "collapsed": false,
    "ExecuteTime": {
     "end_time": "2025-03-12T05:40:09.375969Z",
     "start_time": "2025-03-12T05:40:09.252242Z"
    }
   }
  },
  {
   "cell_type": "code",
   "execution_count": 182,
   "outputs": [],
   "source": [
    "model = torch.load('embeddings/word2vec/model/cbow.pt')"
   ],
   "metadata": {
    "collapsed": false,
    "ExecuteTime": {
     "end_time": "2025-03-12T05:44:46.819941Z",
     "start_time": "2025-03-12T05:44:46.739324Z"
    }
   }
  },
  {
   "cell_type": "code",
   "execution_count": null,
   "outputs": [],
   "source": [],
   "metadata": {
    "collapsed": false
   }
  }
 ],
 "metadata": {
  "kernelspec": {
   "display_name": "Python 3",
   "language": "python",
   "name": "python3"
  },
  "language_info": {
   "codemirror_mode": {
    "name": "ipython",
    "version": 2
   },
   "file_extension": ".py",
   "mimetype": "text/x-python",
   "name": "python",
   "nbconvert_exporter": "python",
   "pygments_lexer": "ipython2",
   "version": "2.7.6"
  }
 },
 "nbformat": 4,
 "nbformat_minor": 0
}
