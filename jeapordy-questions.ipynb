{
 "cells": [
  {
   "cell_type": "code",
   "execution_count": 2,
   "id": "69ae7670",
   "metadata": {},
   "outputs": [],
   "source": [
    "import json\n",
    "import os"
   ]
  },
  {
   "cell_type": "code",
   "execution_count": 3,
   "id": "545201f6",
   "metadata": {},
   "outputs": [
    {
     "data": {
      "text/plain": [
       "'/Users/alexrotondo/Documents/nlp'"
      ]
     },
     "execution_count": 3,
     "metadata": {},
     "output_type": "execute_result"
    }
   ],
   "source": [
    "os.getcwd()"
   ]
  },
  {
   "cell_type": "code",
   "execution_count": 8,
   "id": "b44af63b",
   "metadata": {},
   "outputs": [],
   "source": [
    "with open('../../Downloads/JEOPARDY_QUESTIONS1.json', 'r') as file:\n",
    "    questions = json.load(file)"
   ]
  },
  {
   "cell_type": "code",
   "execution_count": 10,
   "id": "d783d05e",
   "metadata": {},
   "outputs": [
    {
     "data": {
      "text/plain": [
       "{'category': 'HISTORY',\n",
       " 'air_date': '2004-12-31',\n",
       " 'question': \"'For the last 8 years of his life, Galileo was under house arrest for espousing this man's theory'\",\n",
       " 'value': '$200',\n",
       " 'answer': 'Copernicus',\n",
       " 'round': 'Jeopardy!',\n",
       " 'show_number': '4680'}"
      ]
     },
     "execution_count": 10,
     "metadata": {},
     "output_type": "execute_result"
    }
   ],
   "source": [
    "questions[0]"
   ]
  },
  {
   "cell_type": "code",
   "execution_count": 29,
   "id": "49e8ea41",
   "metadata": {},
   "outputs": [],
   "source": [
    "def preprocess(questions):\n",
    "    processedQuestions = []\n",
    "    for question in questions:\n",
    "        processedQuestions += ['<bos> ' + question['question'].lower()[1:-1] + ' <eos>']\n",
    "    return processedQuestions"
   ]
  },
  {
   "cell_type": "code",
   "execution_count": 30,
   "id": "e32b4c55",
   "metadata": {},
   "outputs": [],
   "source": [
    "processedQuestions = preprocess(questions)"
   ]
  },
  {
   "cell_type": "code",
   "execution_count": 31,
   "id": "cba86b03",
   "metadata": {},
   "outputs": [],
   "source": [
    "n = len(processedQuestions)"
   ]
  },
  {
   "cell_type": "code",
   "execution_count": 32,
   "id": "3f5360de",
   "metadata": {},
   "outputs": [
    {
     "data": {
      "text/plain": [
       "216930"
      ]
     },
     "execution_count": 32,
     "metadata": {},
     "output_type": "execute_result"
    }
   ],
   "source": [
    "n"
   ]
  },
  {
   "cell_type": "code",
   "execution_count": 33,
   "id": "4658073d",
   "metadata": {},
   "outputs": [
    {
     "data": {
      "text/plain": [
       "'<bos> the city of yuma in this state has a record average of 4,055 hours of sunshine each year <eos>'"
      ]
     },
     "execution_count": 33,
     "metadata": {},
     "output_type": "execute_result"
    }
   ],
   "source": [
    "processedQuestions[2]"
   ]
  },
  {
   "cell_type": "code",
   "execution_count": 34,
   "id": "567944a0",
   "metadata": {},
   "outputs": [],
   "source": [
    "def get_n_grams(n, questions):\n",
    "    ngrams = {}\n",
    "    for question in questions:\n",
    "        tokens = question.split(' ')\n",
    "        grams = [tuple(tokens[i:i+n]) for i in range(len(tokens) - n)]\n",
    "        for gram in grams:\n",
    "            if gram in ngrams:\n",
    "                ngrams[gram] += 1\n",
    "            else:\n",
    "                ngrams[gram] = 1\n",
    "    return ngrams"
   ]
  },
  {
   "cell_type": "code",
   "execution_count": 35,
   "id": "db9fd7bd",
   "metadata": {},
   "outputs": [],
   "source": [
    "bigrams = get_n_grams(2, processedQuestions)"
   ]
  },
  {
   "cell_type": "code",
   "execution_count": 36,
   "id": "21bf23c9",
   "metadata": {},
   "outputs": [],
   "source": [
    "def get_n_gram_probabilities(ngrams):\n",
    "    n = sum(ngrams.values())\n",
    "    for ngram in ngrams:\n",
    "        ngrams[ngram] /= n\n",
    "    return ngrams"
   ]
  },
  {
   "cell_type": "code",
   "execution_count": 37,
   "id": "7a880026",
   "metadata": {},
   "outputs": [],
   "source": [
    "bigramProbabilities = get_n_gram_probabilities(bigrams)"
   ]
  },
  {
   "cell_type": "code",
   "execution_count": null,
   "id": "34d8baf9",
   "metadata": {},
   "outputs": [],
   "source": []
  }
 ],
 "metadata": {
  "kernelspec": {
   "display_name": "Python 3 (ipykernel)",
   "language": "python",
   "name": "python3"
  },
  "language_info": {
   "codemirror_mode": {
    "name": "ipython",
    "version": 3
   },
   "file_extension": ".py",
   "mimetype": "text/x-python",
   "name": "python",
   "nbconvert_exporter": "python",
   "pygments_lexer": "ipython3",
   "version": "3.9.13"
  }
 },
 "nbformat": 4,
 "nbformat_minor": 5
}
