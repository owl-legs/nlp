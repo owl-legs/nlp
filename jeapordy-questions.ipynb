{
 "cells": [
  {
   "cell_type": "code",
   "execution_count": 60,
   "id": "4332b03d",
   "metadata": {},
   "outputs": [],
   "source": [
    "import json\n",
    "import os\n",
    "import pandas as pd\n",
    "import matplotlib.pyplot as plt\n",
    "import seaborn as sb"
   ]
  },
  {
   "cell_type": "code",
   "execution_count": 3,
   "id": "ee5de7e7",
   "metadata": {},
   "outputs": [
    {
     "data": {
      "text/plain": [
       "'/Users/alexrotondo/Documents/nlp'"
      ]
     },
     "execution_count": 3,
     "metadata": {},
     "output_type": "execute_result"
    }
   ],
   "source": [
    "os.getcwd()"
   ]
  },
  {
   "cell_type": "code",
   "execution_count": 8,
   "id": "74e794b3",
   "metadata": {},
   "outputs": [],
   "source": [
    "with open('../../Downloads/JEOPARDY_QUESTIONS1.json', 'r') as file:\n",
    "    questions = json.load(file)"
   ]
  },
  {
   "cell_type": "code",
   "execution_count": 10,
   "id": "3502bebb",
   "metadata": {},
   "outputs": [
    {
     "data": {
      "text/plain": [
       "{'category': 'HISTORY',\n",
       " 'air_date': '2004-12-31',\n",
       " 'question': \"'For the last 8 years of his life, Galileo was under house arrest for espousing this man's theory'\",\n",
       " 'value': '$200',\n",
       " 'answer': 'Copernicus',\n",
       " 'round': 'Jeopardy!',\n",
       " 'show_number': '4680'}"
      ]
     },
     "execution_count": 10,
     "metadata": {},
     "output_type": "execute_result"
    }
   ],
   "source": [
    "questions[0]"
   ]
  },
  {
   "cell_type": "code",
   "execution_count": 29,
   "id": "3f3214e1",
   "metadata": {},
   "outputs": [],
   "source": [
    "def preprocess(questions):\n",
    "    processedQuestions = []\n",
    "    for question in questions:\n",
    "        processedQuestions += ['<bos> ' + question['question'].lower()[1:-1] + ' <eos>']\n",
    "    return processedQuestions"
   ]
  },
  {
   "cell_type": "code",
   "execution_count": 30,
   "id": "fa6812d0",
   "metadata": {},
   "outputs": [],
   "source": [
    "processedQuestions = preprocess(questions)"
   ]
  },
  {
   "cell_type": "code",
   "execution_count": 31,
   "id": "d71672a2",
   "metadata": {},
   "outputs": [],
   "source": [
    "n = len(processedQuestions)"
   ]
  },
  {
   "cell_type": "code",
   "execution_count": 32,
   "id": "0bb06b90",
   "metadata": {},
   "outputs": [
    {
     "data": {
      "text/plain": [
       "216930"
      ]
     },
     "execution_count": 32,
     "metadata": {},
     "output_type": "execute_result"
    }
   ],
   "source": [
    "n"
   ]
  },
  {
   "cell_type": "code",
   "execution_count": 33,
   "id": "837f3703",
   "metadata": {},
   "outputs": [
    {
     "data": {
      "text/plain": [
       "'<bos> the city of yuma in this state has a record average of 4,055 hours of sunshine each year <eos>'"
      ]
     },
     "execution_count": 33,
     "metadata": {},
     "output_type": "execute_result"
    }
   ],
   "source": [
    "processedQuestions[2]"
   ]
  },
  {
   "cell_type": "code",
   "execution_count": 39,
   "id": "182f41e9",
   "metadata": {},
   "outputs": [],
   "source": [
    "def get_token_counts(questions):\n",
    "    tokenCounts = {}\n",
    "    for question in questions:\n",
    "        tokens = question.split(' ')\n",
    "        for token in tokens:\n",
    "            if token in tokenCounts:\n",
    "                tokenCounts[token] += 1\n",
    "            else:\n",
    "                tokenCounts[token] = 1\n",
    "    return tokenCounts"
   ]
  },
  {
   "cell_type": "code",
   "execution_count": 41,
   "id": "e4e87e37",
   "metadata": {},
   "outputs": [],
   "source": [
    "tokenCounts = get_token_counts(processedQuestions)"
   ]
  },
  {
   "cell_type": "code",
   "execution_count": 96,
   "id": "e83af95e",
   "metadata": {},
   "outputs": [],
   "source": [
    "filteredTokenCounts = {'<UNK>':0}\n",
    "for token, count in tokenCounts.items():\n",
    "    if count >= 5:\n",
    "        filteredTokenCounts[token] = count\n",
    "    else:\n",
    "        filteredTokenCounts['<UNK>'] += 1"
   ]
  },
  {
   "cell_type": "code",
   "execution_count": 68,
   "id": "54c76fcf",
   "metadata": {},
   "outputs": [],
   "source": [
    "tokensDf = pd.DataFrame()\n",
    "tokensDf['tokens'] = tokenCounts.keys()\n",
    "tokensDf['count'] = tokenCounts.values()"
   ]
  },
  {
   "cell_type": "code",
   "execution_count": 69,
   "id": "f6d6b960",
   "metadata": {},
   "outputs": [
    {
     "data": {
      "text/html": [
       "<div>\n",
       "<style scoped>\n",
       "    .dataframe tbody tr th:only-of-type {\n",
       "        vertical-align: middle;\n",
       "    }\n",
       "\n",
       "    .dataframe tbody tr th {\n",
       "        vertical-align: top;\n",
       "    }\n",
       "\n",
       "    .dataframe thead th {\n",
       "        text-align: right;\n",
       "    }\n",
       "</style>\n",
       "<table border=\"1\" class=\"dataframe\">\n",
       "  <thead>\n",
       "    <tr style=\"text-align: right;\">\n",
       "      <th></th>\n",
       "      <th>tokens</th>\n",
       "      <th>count</th>\n",
       "    </tr>\n",
       "  </thead>\n",
       "  <tbody>\n",
       "    <tr>\n",
       "      <th>0</th>\n",
       "      <td>&lt;bos&gt;</td>\n",
       "      <td>216930</td>\n",
       "    </tr>\n",
       "    <tr>\n",
       "      <th>18</th>\n",
       "      <td>&lt;eos&gt;</td>\n",
       "      <td>216930</td>\n",
       "    </tr>\n",
       "    <tr>\n",
       "      <th>2</th>\n",
       "      <td>the</td>\n",
       "      <td>169873</td>\n",
       "    </tr>\n",
       "    <tr>\n",
       "      <th>15</th>\n",
       "      <td>this</td>\n",
       "      <td>123074</td>\n",
       "    </tr>\n",
       "    <tr>\n",
       "      <th>6</th>\n",
       "      <td>of</td>\n",
       "      <td>112716</td>\n",
       "    </tr>\n",
       "    <tr>\n",
       "      <th>...</th>\n",
       "      <td>...</td>\n",
       "      <td>...</td>\n",
       "    </tr>\n",
       "    <tr>\n",
       "      <th>124777</th>\n",
       "      <td>ptarmigans</td>\n",
       "      <td>1</td>\n",
       "    </tr>\n",
       "    <tr>\n",
       "      <th>41933</th>\n",
       "      <td>flash-heated</td>\n",
       "      <td>1</td>\n",
       "    </tr>\n",
       "    <tr>\n",
       "      <th>41937</th>\n",
       "      <td>miles:</td>\n",
       "      <td>1</td>\n",
       "    </tr>\n",
       "    <tr>\n",
       "      <th>124774</th>\n",
       "      <td>typewriter's</td>\n",
       "      <td>1</td>\n",
       "    </tr>\n",
       "    <tr>\n",
       "      <th>215687</th>\n",
       "      <td>flays</td>\n",
       "      <td>1</td>\n",
       "    </tr>\n",
       "  </tbody>\n",
       "</table>\n",
       "<p>215688 rows × 2 columns</p>\n",
       "</div>"
      ],
      "text/plain": [
       "              tokens   count\n",
       "0              <bos>  216930\n",
       "18             <eos>  216930\n",
       "2                the  169873\n",
       "15              this  123074\n",
       "6                 of  112716\n",
       "...              ...     ...\n",
       "124777    ptarmigans       1\n",
       "41933   flash-heated       1\n",
       "41937         miles:       1\n",
       "124774  typewriter's       1\n",
       "215687         flays       1\n",
       "\n",
       "[215688 rows x 2 columns]"
      ]
     },
     "execution_count": 69,
     "metadata": {},
     "output_type": "execute_result"
    }
   ],
   "source": [
    "tokensDf.sort_values(by='count', ascending=False)"
   ]
  },
  {
   "cell_type": "code",
   "execution_count": 70,
   "id": "f80b1be6",
   "metadata": {},
   "outputs": [
    {
     "data": {
      "text/plain": [
       "tokens    href=\"http://www.j-archive.com/media/2008-10-1...\n",
       "count                                                     1\n",
       "Name: 80000, dtype: object"
      ]
     },
     "execution_count": 70,
     "metadata": {},
     "output_type": "execute_result"
    }
   ],
   "source": [
    "tokensDf.iloc[80000, :]"
   ]
  },
  {
   "cell_type": "code",
   "execution_count": 86,
   "id": "3a464790",
   "metadata": {},
   "outputs": [],
   "source": [
    "def filterTokens(tokens, tokenCounts=tokenCounts):\n",
    "    filteredTokens = []\n",
    "    for t in tokens:\n",
    "        if tokenCounts[t] >= 10:\n",
    "            filteredTokens += [t]\n",
    "        else:\n",
    "            filteredTokens += ['<UNK>']\n",
    "    return filteredTokens"
   ]
  },
  {
   "cell_type": "code",
   "execution_count": 87,
   "id": "5a4a47b9",
   "metadata": {},
   "outputs": [],
   "source": [
    "def get_n_grams(n, questions):\n",
    "    ngrams = {}\n",
    "    for question in questions:\n",
    "        tokens = filterTokens(question.split(' '))\n",
    "        grams = [tuple(tokens[i:i+n]) for i in range(len(tokens) - n)]\n",
    "        for gram in grams:\n",
    "            if gram in ngrams:\n",
    "                ngrams[gram] += 1\n",
    "            else:\n",
    "                ngrams[gram] = 1\n",
    "    return ngrams"
   ]
  },
  {
   "cell_type": "code",
   "execution_count": 88,
   "id": "c4b0c4da",
   "metadata": {},
   "outputs": [],
   "source": [
    "bigrams = get_n_grams(2, processedQuestions)"
   ]
  },
  {
   "cell_type": "code",
   "execution_count": 89,
   "id": "d894d25c",
   "metadata": {},
   "outputs": [],
   "source": [
    "bigramDf = pd.DataFrame()\n",
    "bigramDf['bigram'] = bigrams.keys()\n",
    "bigramDf['count'] = bigrams.values()"
   ]
  },
  {
   "cell_type": "code",
   "execution_count": 90,
   "id": "a350d57a",
   "metadata": {},
   "outputs": [
    {
     "data": {
      "text/html": [
       "<div>\n",
       "<style scoped>\n",
       "    .dataframe tbody tr th:only-of-type {\n",
       "        vertical-align: middle;\n",
       "    }\n",
       "\n",
       "    .dataframe tbody tr th {\n",
       "        vertical-align: top;\n",
       "    }\n",
       "\n",
       "    .dataframe thead th {\n",
       "        text-align: right;\n",
       "    }\n",
       "</style>\n",
       "<table border=\"1\" class=\"dataframe\">\n",
       "  <thead>\n",
       "    <tr style=\"text-align: right;\">\n",
       "      <th></th>\n",
       "      <th>bigram</th>\n",
       "      <th>count</th>\n",
       "    </tr>\n",
       "  </thead>\n",
       "  <tbody>\n",
       "    <tr>\n",
       "      <th>73</th>\n",
       "      <td>(&lt;UNK&gt;, &lt;UNK&gt;)</td>\n",
       "      <td>48770</td>\n",
       "    </tr>\n",
       "    <tr>\n",
       "      <th>33</th>\n",
       "      <td>(the, &lt;UNK&gt;)</td>\n",
       "      <td>25439</td>\n",
       "    </tr>\n",
       "    <tr>\n",
       "      <th>70</th>\n",
       "      <td>(of, the)</td>\n",
       "      <td>23140</td>\n",
       "    </tr>\n",
       "    <tr>\n",
       "      <th>134</th>\n",
       "      <td>(&lt;bos&gt;, this)</td>\n",
       "      <td>22689</td>\n",
       "    </tr>\n",
       "    <tr>\n",
       "      <th>54</th>\n",
       "      <td>(&lt;bos&gt;, in)</td>\n",
       "      <td>22234</td>\n",
       "    </tr>\n",
       "    <tr>\n",
       "      <th>...</th>\n",
       "      <td>...</td>\n",
       "      <td>...</td>\n",
       "    </tr>\n",
       "    <tr>\n",
       "      <th>341663</th>\n",
       "      <td>(number, together,)</td>\n",
       "      <td>1</td>\n",
       "    </tr>\n",
       "    <tr>\n",
       "      <th>341661</th>\n",
       "      <td>(use, measuring)</td>\n",
       "      <td>1</td>\n",
       "    </tr>\n",
       "    <tr>\n",
       "      <th>8392</th>\n",
       "      <td>(5,, 1996,)</td>\n",
       "      <td>1</td>\n",
       "    </tr>\n",
       "    <tr>\n",
       "      <th>341658</th>\n",
       "      <td>(line, over)</td>\n",
       "      <td>1</td>\n",
       "    </tr>\n",
       "    <tr>\n",
       "      <th>692248</th>\n",
       "      <td>(c., statesman)</td>\n",
       "      <td>1</td>\n",
       "    </tr>\n",
       "  </tbody>\n",
       "</table>\n",
       "<p>692249 rows × 2 columns</p>\n",
       "</div>"
      ],
      "text/plain": [
       "                     bigram  count\n",
       "73           (<UNK>, <UNK>)  48770\n",
       "33             (the, <UNK>)  25439\n",
       "70                (of, the)  23140\n",
       "134           (<bos>, this)  22689\n",
       "54              (<bos>, in)  22234\n",
       "...                     ...    ...\n",
       "341663  (number, together,)      1\n",
       "341661     (use, measuring)      1\n",
       "8392            (5,, 1996,)      1\n",
       "341658         (line, over)      1\n",
       "692248      (c., statesman)      1\n",
       "\n",
       "[692249 rows x 2 columns]"
      ]
     },
     "execution_count": 90,
     "metadata": {},
     "output_type": "execute_result"
    }
   ],
   "source": [
    "bigramDf.sort_values(by='count', ascending=False)"
   ]
  },
  {
   "cell_type": "code",
   "execution_count": 93,
   "id": "d289a1a2",
   "metadata": {},
   "outputs": [],
   "source": [
    "def get_n_gram_probabilities(ngrams, tokenCounts):\n",
    "    for ngram in ngrams:\n",
    "        ngrams[ngram] /= tokenCounts[ngram[0]]\n",
    "    return ngrams"
   ]
  },
  {
   "cell_type": "code",
   "execution_count": 97,
   "id": "08fc1af1",
   "metadata": {},
   "outputs": [],
   "source": [
    "bigramProbabilities = get_n_gram_probabilities(bigrams, filteredTokenCounts)"
   ]
  },
  {
   "cell_type": "code",
   "execution_count": 103,
   "id": "cc7632c4",
   "metadata": {},
   "outputs": [],
   "source": [
    "import random\n",
    "\n",
    "def get_possible_next_words(lastWord, bigrams=bigrams):\n",
    "    return [bigram for bigram in bigrams.keys() if bigram[0] == lastWord]\n",
    "\n",
    "def highest_probable_next_word(possibleBigrams, bigramProbabilities=bigramProbabilities):\n",
    "    probabilities = [(bigramProbabilities[bigram], bigram) for bigram in possibleBigrams]\n",
    "    return list(sorted(probabilities, reverse=True))[0][1][1]\n",
    "\n",
    "def random_choice(possibleBigrams):\n",
    "    return random.choice(possibleBigrams)[1]\n",
    "\n",
    "def generate_jeopardy_question(n, bigramProbabilities=bigramProbabilities):\n",
    "    nextWord = '<bos>'\n",
    "    lastWord = nextWord\n",
    "    question = ''\n",
    "    \n",
    "    while lastWord != '<eos>' and n > 0:\n",
    "        \n",
    "        nextWordOptions = get_possible_next_words(lastWord, bigrams)\n",
    "        \n",
    "        if lastWord == '<bos>':\n",
    "            nextWord = random_choice(nextWordOptions)\n",
    "        else:\n",
    "            nextWord = highest_probable_next_word(nextWordOptions, bigramProbabilities)\n",
    "        \n",
    "        question += (' ' + nextWord)\n",
    "        lastWord = nextWord\n",
    "        n -= 1\n",
    "    \n",
    "    return question"
   ]
  },
  {
   "cell_type": "code",
   "execution_count": 104,
   "id": "42ec292a",
   "metadata": {},
   "outputs": [],
   "source": [
    "q = generate_jeopardy_question(5)"
   ]
  },
  {
   "cell_type": "code",
   "execution_count": 105,
   "id": "c2241c6c",
   "metadata": {},
   "outputs": [
    {
     "name": "stdout",
     "output_type": "stream",
     "text": [
      " tree is the <UNK> <UNK>\n"
     ]
    }
   ],
   "source": [
    "print(q)"
   ]
  },
  {
   "cell_type": "code",
   "execution_count": null,
   "id": "4d6ba4fd",
   "metadata": {},
   "outputs": [],
   "source": []
  }
 ],
 "metadata": {
  "kernelspec": {
   "display_name": "Python 3 (ipykernel)",
   "language": "python",
   "name": "python3"
  },
  "language_info": {
   "codemirror_mode": {
    "name": "ipython",
    "version": 3
   },
   "file_extension": ".py",
   "mimetype": "text/x-python",
   "name": "python",
   "nbconvert_exporter": "python",
   "pygments_lexer": "ipython3",
   "version": "3.9.13"
  }
 },
 "nbformat": 4,
 "nbformat_minor": 5
}
