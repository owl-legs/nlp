{
 "cells": [
  {
   "cell_type": "code",
   "execution_count": 97,
   "id": "dfad35af",
   "metadata": {},
   "outputs": [],
   "source": [
    "import os\n",
    "import random\n",
    "import matplotlib.pyplot as plt\n",
    "import numpy as np"
   ]
  },
  {
   "cell_type": "code",
   "execution_count": 12,
   "id": "a01d0462",
   "metadata": {},
   "outputs": [
    {
     "data": {
      "text/plain": [
       "'/Users/alexrotondo/Documents/nlp'"
      ]
     },
     "execution_count": 12,
     "metadata": {},
     "output_type": "execute_result"
    }
   ],
   "source": [
    "os.getcwd()"
   ]
  },
  {
   "cell_type": "code",
   "execution_count": 13,
   "id": "9c2a6141",
   "metadata": {},
   "outputs": [],
   "source": [
    "filepath = 'data/names.txt'"
   ]
  },
  {
   "cell_type": "code",
   "execution_count": 21,
   "id": "a8927782",
   "metadata": {},
   "outputs": [],
   "source": [
    "with open(filepath) as file:\n",
    "    names = file.readlines()\n",
    "names = list(map(lambda x: x.split('\\\\\\n')[0], names))"
   ]
  },
  {
   "cell_type": "code",
   "execution_count": 22,
   "id": "f78793e1",
   "metadata": {},
   "outputs": [
    {
     "data": {
      "text/plain": [
       "'isabella'"
      ]
     },
     "execution_count": 22,
     "metadata": {},
     "output_type": "execute_result"
    }
   ],
   "source": [
    "names[2]"
   ]
  },
  {
   "cell_type": "code",
   "execution_count": 86,
   "id": "bce11ec6",
   "metadata": {},
   "outputs": [],
   "source": [
    "def generate_ngrams(names, n=1):\n",
    "    tokens = {}\n",
    "    for word in names:\n",
    "        word = '#' + word + '$'\n",
    "        for i in range(len(word) - n + 1):\n",
    "            token = word[i:i+n]\n",
    "            if token in tokens:\n",
    "                tokens[token] += 1\n",
    "            else:\n",
    "                tokens[token] = 1\n",
    "    return tokens"
   ]
  },
  {
   "cell_type": "code",
   "execution_count": 88,
   "id": "19b2680f",
   "metadata": {},
   "outputs": [],
   "source": [
    "tokens = generate_ngrams(names)\n",
    "bigrams = generate_ngrams(names, n=2)"
   ]
  },
  {
   "cell_type": "code",
   "execution_count": 93,
   "id": "1bfe2c2d",
   "metadata": {},
   "outputs": [],
   "source": [
    "bigramConditionalProbabilities = {\n",
    "    \n",
    "    k:(v/tokens[k[0]]) for k,v in bigrams.items()\n",
    "}"
   ]
  },
  {
   "cell_type": "code",
   "execution_count": 90,
   "id": "e7215a25",
   "metadata": {},
   "outputs": [],
   "source": [
    "letters = [chr(i + ord('a')) for i in range(26)]\n",
    "bigramProbabilities = [[0] * 26 for _ in range(26)]\n",
    "bigramConditionalProbabilities = [[0] * 26 for _ in range(26)]"
   ]
  },
  {
   "cell_type": "code",
   "execution_count": 91,
   "id": "7b8dcc4e",
   "metadata": {},
   "outputs": [],
   "source": [
    "for i in range(26):\n",
    "    for j in range(26):\n",
    "        bigram = chr(i + ord('a')) + chr(j + ord('a'))\n",
    "        bigramProbabilities[i][j] = bigrams.get(bigram, 0) / sum(bigrams.values())\n",
    "        bigramConditionalProbabilities[i][j] = bigrams.get(bigram, 0) / tokens.get(bigram[0], 1)"
   ]
  },
  {
   "cell_type": "code",
   "execution_count": null,
   "id": "f2dba4e1",
   "metadata": {},
   "outputs": [],
   "source": [
    "(fig, ax) = plt.subplots()\n",
    "im = ax.imshow(bigramProbabilities)\n",
    "ax.set_xticks(np.arange(len(letters)))\n",
    "ax.set_yticks(np.arange(len(letters)))\n",
    "ax.set_xticklabels(letters)\n",
    "ax.set_yticklabels(letters)"
   ]
  },
  {
   "cell_type": "code",
   "execution_count": 108,
   "id": "aa9e29cf",
   "metadata": {},
   "outputs": [],
   "source": [
    "def generate_name(maxlen, cpMap=bigramConditionalProbabilities):\n",
    "\n",
    "    nextLetter = random.choice([bigram for bigram in cpMap.keys() if bigram[0] == '#'])\n",
    "    name = '#' + nextLetter[1]\n",
    "    \n",
    "    while name[-1] != '$' and len(name) <= maxlen + 2:\n",
    "        \n",
    "        nextOptions = [(bigram[-1], p) for bigram, p in cpMap.items() if bigram[0] == name[-1]]\n",
    "        nextLetter = random.choices(list(map(lambda x: x[0], nextOptions)),\n",
    "                                    list(map(lambda x: x[1], nextOptions)))\n",
    "        name += nextLetter[0]\n",
    "    \n",
    "    return name[1:-1]"
   ]
  },
  {
   "cell_type": "code",
   "execution_count": 109,
   "id": "f289090e",
   "metadata": {},
   "outputs": [
    {
     "data": {
      "text/plain": [
       "'zaq'"
      ]
     },
     "execution_count": 109,
     "metadata": {},
     "output_type": "execute_result"
    }
   ],
   "source": [
    "generate_name(4)"
   ]
  },
  {
   "cell_type": "code",
   "execution_count": null,
   "id": "5b867b05",
   "metadata": {},
   "outputs": [],
   "source": []
  }
 ],
 "metadata": {
  "kernelspec": {
   "display_name": "Python 3 (ipykernel)",
   "language": "python",
   "name": "python3"
  },
  "language_info": {
   "codemirror_mode": {
    "name": "ipython",
    "version": 3
   },
   "file_extension": ".py",
   "mimetype": "text/x-python",
   "name": "python",
   "nbconvert_exporter": "python",
   "pygments_lexer": "ipython3",
   "version": "3.9.13"
  }
 },
 "nbformat": 4,
 "nbformat_minor": 5
}
