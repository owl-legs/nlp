{
 "cells": [
  {
   "cell_type": "code",
   "execution_count": 97,
   "id": "f227c1c1",
   "metadata": {},
   "outputs": [],
   "source": [
    "import os\n",
    "import random\n",
    "import matplotlib.pyplot as plt\n",
    "import numpy as np"
   ]
  },
  {
   "cell_type": "code",
   "execution_count": 12,
   "id": "3550b534",
   "metadata": {},
   "outputs": [
    {
     "data": {
      "text/plain": [
       "'/Users/alexrotondo/Documents/nlp'"
      ]
     },
     "execution_count": 12,
     "metadata": {},
     "output_type": "execute_result"
    }
   ],
   "source": [
    "os.getcwd()"
   ]
  },
  {
   "cell_type": "code",
   "execution_count": 13,
   "id": "d4913c83",
   "metadata": {},
   "outputs": [],
   "source": [
    "filepath = 'data/names.txt'"
   ]
  },
  {
   "cell_type": "code",
   "execution_count": 21,
   "id": "77f2391b",
   "metadata": {},
   "outputs": [],
   "source": [
    "with open(filepath) as file:\n",
    "    names = file.readlines()\n",
    "names = list(map(lambda x: x.split('\\\\\\n')[0], names))"
   ]
  },
  {
   "cell_type": "code",
   "execution_count": 22,
   "id": "fdb0750b",
   "metadata": {},
   "outputs": [
    {
     "data": {
      "text/plain": [
       "'isabella'"
      ]
     },
     "execution_count": 22,
     "metadata": {},
     "output_type": "execute_result"
    }
   ],
   "source": [
    "names[2]"
   ]
  },
  {
   "cell_type": "code",
   "execution_count": 116,
   "id": "c70faba9",
   "metadata": {},
   "outputs": [],
   "source": [
    "def generate_ngrams(names, n=1):\n",
    "    tokens = {}\n",
    "    for word in names:\n",
    "        word = '#' + word + '$'\n",
    "        for i in range(len(word) - n + 1):\n",
    "            token = word[i:i+n]\n",
    "            if token in tokens:\n",
    "                tokens[token] += 1\n",
    "            else:\n",
    "                tokens[token] = 1\n",
    "    return (tokens.keys(), tokens)"
   ]
  },
  {
   "cell_type": "code",
   "execution_count": 117,
   "id": "a0ec6a8c",
   "metadata": {},
   "outputs": [],
   "source": [
    "tokens, tokenCounts = generate_ngrams(names)\n",
    "bigrams, bigramCounts = generate_ngrams(names, n=2)"
   ]
  },
  {
   "cell_type": "code",
   "execution_count": 118,
   "id": "b3dd8beb",
   "metadata": {},
   "outputs": [],
   "source": [
    "bigramConditionalProbabilities = {\n",
    "    \n",
    "    k:(v/tokenCounts[k[0]]) for k,v in bigramCounts.items()\n",
    "}"
   ]
  },
  {
   "cell_type": "code",
   "execution_count": 119,
   "id": "442da29f",
   "metadata": {},
   "outputs": [],
   "source": [
    "letters = [chr(i + ord('a')) for i in range(26)]\n",
    "bigramProbabilities = [[0] * 26 for _ in range(26)]\n",
    "bigramConditionalProbabilities = [[0] * 26 for _ in range(26)]"
   ]
  },
  {
   "cell_type": "code",
   "execution_count": 120,
   "id": "78992d1e",
   "metadata": {},
   "outputs": [],
   "source": [
    "for i in range(26):\n",
    "    for j in range(26):\n",
    "        bigram = chr(i + ord('a')) + chr(j + ord('a'))\n",
    "        bigramProbabilities[i][j] = bigramCounts.get(bigram, 0) / sum(bigramCounts.values())\n",
    "        bigramConditionalProbabilities[i][j] = bigramCounts.get(bigram, 0) / tokenCounts.get(bigram[0], 1)"
   ]
  },
  {
   "cell_type": "code",
   "execution_count": 121,
   "id": "cab4b341",
   "metadata": {
    "scrolled": true
   },
   "outputs": [
    {
     "data": {
      "text/plain": [
       "[Text(0, 0, 'a'),\n",
       " Text(0, 1, 'b'),\n",
       " Text(0, 2, 'c'),\n",
       " Text(0, 3, 'd'),\n",
       " Text(0, 4, 'e'),\n",
       " Text(0, 5, 'f'),\n",
       " Text(0, 6, 'g'),\n",
       " Text(0, 7, 'h'),\n",
       " Text(0, 8, 'i'),\n",
       " Text(0, 9, 'j'),\n",
       " Text(0, 10, 'k'),\n",
       " Text(0, 11, 'l'),\n",
       " Text(0, 12, 'm'),\n",
       " Text(0, 13, 'n'),\n",
       " Text(0, 14, 'o'),\n",
       " Text(0, 15, 'p'),\n",
       " Text(0, 16, 'q'),\n",
       " Text(0, 17, 'r'),\n",
       " Text(0, 18, 's'),\n",
       " Text(0, 19, 't'),\n",
       " Text(0, 20, 'u'),\n",
       " Text(0, 21, 'v'),\n",
       " Text(0, 22, 'w'),\n",
       " Text(0, 23, 'x'),\n",
       " Text(0, 24, 'y'),\n",
       " Text(0, 25, 'z')]"
      ]
     },
     "execution_count": 121,
     "metadata": {},
     "output_type": "execute_result"
    },
    {
     "data": {
      "image/png": "[encoded data removed]",
      "text/plain": [
       "<Figure size 640x480 with 1 Axes>"
      ]
     },
     "metadata": {},
     "output_type": "display_data"
    }
   ],
   "source": [
    "(fig, ax) = plt.subplots()\n",
    "im = ax.imshow(bigramProbabilities)\n",
    "ax.set_xticks(np.arange(len(letters)))\n",
    "ax.set_yticks(np.arange(len(letters)))\n",
    "ax.set_xticklabels(letters)\n",
    "ax.set_yticklabels(letters)"
   ]
  },
  {
   "cell_type": "code",
   "execution_count": 108,
   "id": "3e8c28c3",
   "metadata": {},
   "outputs": [],
   "source": [
    "def generate_name(maxlen, cpMap=bigramConditionalProbabilities):\n",
    "\n",
    "    nextLetter = random.choice([bigram for bigram in cpMap.keys() if bigram[0] == '#'])\n",
    "    name = '#' + nextLetter[1]\n",
    "    \n",
    "    while name[-1] != '$' and len(name) <= maxlen + 2:\n",
    "        \n",
    "        nextOptions = [(bigram[-1], p) for bigram, p in cpMap.items() if bigram[0] == name[-1]]\n",
    "        nextLetter = random.choices(list(map(lambda x: x[0], nextOptions)),\n",
    "                                    list(map(lambda x: x[1], nextOptions)))\n",
    "        name += nextLetter[0]\n",
    "    \n",
    "    return name[1:-1]"
   ]
  },
  {
   "cell_type": "code",
   "execution_count": 109,
   "id": "86aad9b6",
   "metadata": {},
   "outputs": [
    {
     "data": {
      "text/plain": [
       "'zaq'"
      ]
     },
     "execution_count": 109,
     "metadata": {},
     "output_type": "execute_result"
    }
   ],
   "source": [
    "generate_name(4)"
   ]
  },
  {
   "cell_type": "code",
   "execution_count": 114,
   "id": "c252447b",
   "metadata": {},
   "outputs": [],
   "source": [
    "def calculate_perplexity(name, model=bigramConditionalProbabilities):\n",
    "    \n",
    "    n = len(name)\n",
    "    ngrams = (generate_ngrams([name], n=2)).keys()\n",
    "    \n",
    "    probability = 1\n",
    "    \n",
    "    for ngram in ngrams:\n",
    "        probability *= (model.get(ngram, 0))\n",
    "    \n",
    "    return 0 if probability == 0 else ((probability)**-1)**(1/n)"
   ]
  },
  {
   "cell_type": "code",
   "execution_count": 115,
   "id": "60089a1a",
   "metadata": {},
   "outputs": [
    {
     "data": {
      "text/plain": [
       "23.553532745997643"
      ]
     },
     "execution_count": 115,
     "metadata": {},
     "output_type": "execute_result"
    }
   ],
   "source": [
    "calculate_perplexity('alex')"
   ]
  }
 ],
 "metadata": {
  "kernelspec": {
   "display_name": "Python 3 (ipykernel)",
   "language": "python",
   "name": "python3"
  },
  "language_info": {
   "codemirror_mode": {
    "name": "ipython",
    "version": 3
   },
   "file_extension": ".py",
   "mimetype": "text/x-python",
   "name": "python",
   "nbconvert_exporter": "python",
   "pygments_lexer": "ipython3",
   "version": "3.9.13"
  }
 },
 "nbformat": 4,
 "nbformat_minor": 5
}
