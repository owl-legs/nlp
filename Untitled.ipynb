{
 "cells": [
  {
   "cell_type": "code",
   "execution_count": 2,
   "id": "86ac6868",
   "metadata": {},
   "outputs": [],
   "source": [
    "import pickle"
   ]
  },
  {
   "cell_type": "code",
   "execution_count": 13,
   "id": "0fe837b5",
   "metadata": {},
   "outputs": [],
   "source": [
    "dic = {'one':300,\n",
    "      'two':17,\n",
    "      'three':8,\n",
    "      'four':250}"
   ]
  },
  {
   "cell_type": "code",
   "execution_count": 15,
   "id": "445cee9c",
   "metadata": {},
   "outputs": [],
   "source": [
    "pickle.dump(dic, open('sample.txt', 'wb'), True)"
   ]
  },
  {
   "cell_type": "code",
   "execution_count": 17,
   "id": "738e9978",
   "metadata": {},
   "outputs": [],
   "source": [
    "dic2 = pickle.load(open('sample.txt', 'rb'))"
   ]
  },
  {
   "cell_type": "code",
   "execution_count": 18,
   "id": "9bff69bd",
   "metadata": {},
   "outputs": [
    {
     "data": {
      "text/plain": [
       "{'one': 300, 'two': 17, 'three': 8, 'four': 250}"
      ]
     },
     "execution_count": 18,
     "metadata": {},
     "output_type": "execute_result"
    }
   ],
   "source": [
    "dic2"
   ]
  },
  {
   "cell_type": "code",
   "execution_count": null,
   "id": "dc479725",
   "metadata": {},
   "outputs": [],
   "source": []
  }
 ],
 "metadata": {
  "kernelspec": {
   "display_name": "Python 3 (ipykernel)",
   "language": "python",
   "name": "python3"
  },
  "language_info": {
   "codemirror_mode": {
    "name": "ipython",
    "version": 3
   },
   "file_extension": ".py",
   "mimetype": "text/x-python",
   "name": "python",
   "nbconvert_exporter": "python",
   "pygments_lexer": "ipython3",
   "version": "3.9.13"
  }
 },
 "nbformat": 4,
 "nbformat_minor": 5
}
